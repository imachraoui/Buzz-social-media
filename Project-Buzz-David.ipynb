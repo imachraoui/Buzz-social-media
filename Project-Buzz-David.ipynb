{
 "cells": [
  {
   "cell_type": "markdown",
   "metadata": {},
   "source": [
    "# Projet - détection de Buzz dans le réseau social Twitter\n",
    "\n",
    "\n",
    "1.Introduction\n",
    "    \n",
    "    Twitter est un réseau social permettant le partage d'information sous forme de tweet qui sont des messages courts. La particularité de twitter est de pouvoir attacher à ce message des mots-clés (hashtag), qui peuvent alors être repris par d'autres utilisateurs, ou de pouvoir reprendre un message et le diffuser sur son propre compte, on parle alors de retweet. Avec la croissance du nombre d'utilisateurs, nous pouvons constater que certain messages et/ou information peuvent avoir un écho fort avec un impact sociétale. On parle alors de Buzz. \n",
    "    Cette étude à pour objectif de déterminer si un sujet en particulier, peut être considérer comme faisant Buzz ou non. Nous ferons cette étude sur une base de données de tweeter disponible sur le site de l'UCI(1). Ces données représentent 143000 tweets avec des indicateurs d'évolution sur certains critèes comme le nombre de discussions crées,...\n",
    "    \n",
    "    \n",
    "2.Préliminaires\n",
    "    \n",
    "    2.1 Cadre général\n",
    "    \n",
    "    La notion de Buzz est mal définie dans la littérature et n'a pas de définition mathématique précise. On acceptera dans ce document que le Buzz représente l'acroissement rapide d'activité (Tweets, Retweets) sur une période donnée. \n",
    "    \n",
    "    2.2 Description des données\n",
    "    \n",
    "    Les données sont extraites de la base de données de l'UCI qui ont servi de base pour l'étude menée par F. Kawala, A. Douzal-Chouakria, E. Gaussier, E. Dimert afin de prédire l'effet de Buzz dans les résaux Twitter et Tom's Hardware. Nous n'allons nous concentrer que sur l résau social Twitter qui est composé de 143000 tweets et 77 features, représentant en réalité que 11 features mesurées en 7 temps différents (7x11 = 77).\n",
    "   \n",
    "\n",
    "3.Visualisation des données\n",
    "    \n",
    "    3.1 Extraction des données\n",
    "    Le code suivant permet d'extraire les données du fichier CSV et de les injecter dans un dataframe."
   ]
  },
  {
   "cell_type": "code",
   "execution_count": 50,
   "metadata": {
    "collapsed": false
   },
   "outputs": [
    {
     "data": {
      "text/html": [
       "<div>\n",
       "<table border=\"1\" class=\"dataframe\">\n",
       "  <thead>\n",
       "    <tr style=\"text-align: right;\">\n",
       "      <th></th>\n",
       "      <th>NCD_0</th>\n",
       "      <th>NCD_1</th>\n",
       "      <th>NCD_2</th>\n",
       "      <th>NCD_3</th>\n",
       "      <th>NCD_4</th>\n",
       "      <th>NCD_5</th>\n",
       "      <th>NCD_6</th>\n",
       "      <th>AI_0</th>\n",
       "      <th>AI_1</th>\n",
       "      <th>AI_2</th>\n",
       "      <th>...</th>\n",
       "      <th>ADL_5</th>\n",
       "      <th>ADL_6</th>\n",
       "      <th>NAD_0</th>\n",
       "      <th>NAD_1</th>\n",
       "      <th>NAD_2</th>\n",
       "      <th>NAD_3</th>\n",
       "      <th>NAD_4</th>\n",
       "      <th>NAD_5</th>\n",
       "      <th>NAD_6</th>\n",
       "      <th>Annotation</th>\n",
       "    </tr>\n",
       "  </thead>\n",
       "  <tbody>\n",
       "    <tr>\n",
       "      <th>0</th>\n",
       "      <td>889</td>\n",
       "      <td>939</td>\n",
       "      <td>960</td>\n",
       "      <td>805</td>\n",
       "      <td>805</td>\n",
       "      <td>1143</td>\n",
       "      <td>1121</td>\n",
       "      <td>549</td>\n",
       "      <td>613</td>\n",
       "      <td>587</td>\n",
       "      <td>...</td>\n",
       "      <td>1.000000</td>\n",
       "      <td>1.000000</td>\n",
       "      <td>889</td>\n",
       "      <td>939</td>\n",
       "      <td>960</td>\n",
       "      <td>805</td>\n",
       "      <td>805</td>\n",
       "      <td>1143</td>\n",
       "      <td>1121</td>\n",
       "      <td>1</td>\n",
       "    </tr>\n",
       "    <tr>\n",
       "      <th>1</th>\n",
       "      <td>542</td>\n",
       "      <td>473</td>\n",
       "      <td>504</td>\n",
       "      <td>626</td>\n",
       "      <td>647</td>\n",
       "      <td>795</td>\n",
       "      <td>832</td>\n",
       "      <td>366</td>\n",
       "      <td>288</td>\n",
       "      <td>318</td>\n",
       "      <td>...</td>\n",
       "      <td>1.000000</td>\n",
       "      <td>1.000000</td>\n",
       "      <td>542</td>\n",
       "      <td>473</td>\n",
       "      <td>504</td>\n",
       "      <td>626</td>\n",
       "      <td>647</td>\n",
       "      <td>795</td>\n",
       "      <td>832</td>\n",
       "      <td>1</td>\n",
       "    </tr>\n",
       "    <tr>\n",
       "      <th>2</th>\n",
       "      <td>92</td>\n",
       "      <td>99</td>\n",
       "      <td>196</td>\n",
       "      <td>100</td>\n",
       "      <td>184</td>\n",
       "      <td>79</td>\n",
       "      <td>162</td>\n",
       "      <td>66</td>\n",
       "      <td>59</td>\n",
       "      <td>118</td>\n",
       "      <td>...</td>\n",
       "      <td>1.000000</td>\n",
       "      <td>1.000000</td>\n",
       "      <td>92</td>\n",
       "      <td>99</td>\n",
       "      <td>196</td>\n",
       "      <td>100</td>\n",
       "      <td>184</td>\n",
       "      <td>79</td>\n",
       "      <td>162</td>\n",
       "      <td>0</td>\n",
       "    </tr>\n",
       "    <tr>\n",
       "      <th>3</th>\n",
       "      <td>90</td>\n",
       "      <td>87</td>\n",
       "      <td>92</td>\n",
       "      <td>344</td>\n",
       "      <td>184</td>\n",
       "      <td>848</td>\n",
       "      <td>184</td>\n",
       "      <td>83</td>\n",
       "      <td>78</td>\n",
       "      <td>76</td>\n",
       "      <td>...</td>\n",
       "      <td>1.000000</td>\n",
       "      <td>1.000000</td>\n",
       "      <td>90</td>\n",
       "      <td>87</td>\n",
       "      <td>92</td>\n",
       "      <td>344</td>\n",
       "      <td>184</td>\n",
       "      <td>848</td>\n",
       "      <td>184</td>\n",
       "      <td>1</td>\n",
       "    </tr>\n",
       "    <tr>\n",
       "      <th>4</th>\n",
       "      <td>169</td>\n",
       "      <td>98</td>\n",
       "      <td>101</td>\n",
       "      <td>90</td>\n",
       "      <td>96</td>\n",
       "      <td>95</td>\n",
       "      <td>185</td>\n",
       "      <td>141</td>\n",
       "      <td>68</td>\n",
       "      <td>85</td>\n",
       "      <td>...</td>\n",
       "      <td>1.000000</td>\n",
       "      <td>1.000000</td>\n",
       "      <td>169</td>\n",
       "      <td>98</td>\n",
       "      <td>101</td>\n",
       "      <td>90</td>\n",
       "      <td>96</td>\n",
       "      <td>95</td>\n",
       "      <td>185</td>\n",
       "      <td>1</td>\n",
       "    </tr>\n",
       "    <tr>\n",
       "      <th>5</th>\n",
       "      <td>775</td>\n",
       "      <td>765</td>\n",
       "      <td>935</td>\n",
       "      <td>806</td>\n",
       "      <td>912</td>\n",
       "      <td>1095</td>\n",
       "      <td>1198</td>\n",
       "      <td>614</td>\n",
       "      <td>588</td>\n",
       "      <td>751</td>\n",
       "      <td>...</td>\n",
       "      <td>1.000000</td>\n",
       "      <td>1.000000</td>\n",
       "      <td>775</td>\n",
       "      <td>765</td>\n",
       "      <td>935</td>\n",
       "      <td>806</td>\n",
       "      <td>912</td>\n",
       "      <td>1095</td>\n",
       "      <td>1198</td>\n",
       "      <td>1</td>\n",
       "    </tr>\n",
       "    <tr>\n",
       "      <th>6</th>\n",
       "      <td>469</td>\n",
       "      <td>1092</td>\n",
       "      <td>332</td>\n",
       "      <td>354</td>\n",
       "      <td>357</td>\n",
       "      <td>676</td>\n",
       "      <td>1189</td>\n",
       "      <td>348</td>\n",
       "      <td>909</td>\n",
       "      <td>261</td>\n",
       "      <td>...</td>\n",
       "      <td>1.000000</td>\n",
       "      <td>1.000000</td>\n",
       "      <td>469</td>\n",
       "      <td>1092</td>\n",
       "      <td>332</td>\n",
       "      <td>354</td>\n",
       "      <td>357</td>\n",
       "      <td>676</td>\n",
       "      <td>1189</td>\n",
       "      <td>1</td>\n",
       "    </tr>\n",
       "    <tr>\n",
       "      <th>7</th>\n",
       "      <td>818</td>\n",
       "      <td>693</td>\n",
       "      <td>756</td>\n",
       "      <td>1099</td>\n",
       "      <td>877</td>\n",
       "      <td>871</td>\n",
       "      <td>1409</td>\n",
       "      <td>578</td>\n",
       "      <td>516</td>\n",
       "      <td>546</td>\n",
       "      <td>...</td>\n",
       "      <td>1.000000</td>\n",
       "      <td>1.000000</td>\n",
       "      <td>818</td>\n",
       "      <td>693</td>\n",
       "      <td>756</td>\n",
       "      <td>1099</td>\n",
       "      <td>877</td>\n",
       "      <td>871</td>\n",
       "      <td>1409</td>\n",
       "      <td>1</td>\n",
       "    </tr>\n",
       "    <tr>\n",
       "      <th>8</th>\n",
       "      <td>832</td>\n",
       "      <td>628</td>\n",
       "      <td>898</td>\n",
       "      <td>944</td>\n",
       "      <td>993</td>\n",
       "      <td>983</td>\n",
       "      <td>1037</td>\n",
       "      <td>543</td>\n",
       "      <td>432</td>\n",
       "      <td>627</td>\n",
       "      <td>...</td>\n",
       "      <td>1.000000</td>\n",
       "      <td>1.000000</td>\n",
       "      <td>832</td>\n",
       "      <td>628</td>\n",
       "      <td>898</td>\n",
       "      <td>944</td>\n",
       "      <td>993</td>\n",
       "      <td>983</td>\n",
       "      <td>1037</td>\n",
       "      <td>1</td>\n",
       "    </tr>\n",
       "    <tr>\n",
       "      <th>9</th>\n",
       "      <td>920</td>\n",
       "      <td>1071</td>\n",
       "      <td>833</td>\n",
       "      <td>662</td>\n",
       "      <td>851</td>\n",
       "      <td>1096</td>\n",
       "      <td>1067</td>\n",
       "      <td>659</td>\n",
       "      <td>790</td>\n",
       "      <td>601</td>\n",
       "      <td>...</td>\n",
       "      <td>1.000000</td>\n",
       "      <td>1.013109</td>\n",
       "      <td>920</td>\n",
       "      <td>1071</td>\n",
       "      <td>833</td>\n",
       "      <td>662</td>\n",
       "      <td>851</td>\n",
       "      <td>1096</td>\n",
       "      <td>1068</td>\n",
       "      <td>1</td>\n",
       "    </tr>\n",
       "    <tr>\n",
       "      <th>10</th>\n",
       "      <td>849</td>\n",
       "      <td>798</td>\n",
       "      <td>863</td>\n",
       "      <td>1150</td>\n",
       "      <td>1087</td>\n",
       "      <td>1086</td>\n",
       "      <td>1037</td>\n",
       "      <td>564</td>\n",
       "      <td>573</td>\n",
       "      <td>641</td>\n",
       "      <td>...</td>\n",
       "      <td>1.016575</td>\n",
       "      <td>1.046243</td>\n",
       "      <td>850</td>\n",
       "      <td>799</td>\n",
       "      <td>864</td>\n",
       "      <td>1152</td>\n",
       "      <td>1089</td>\n",
       "      <td>1086</td>\n",
       "      <td>1038</td>\n",
       "      <td>1</td>\n",
       "    </tr>\n",
       "    <tr>\n",
       "      <th>11</th>\n",
       "      <td>847</td>\n",
       "      <td>649</td>\n",
       "      <td>687</td>\n",
       "      <td>1440</td>\n",
       "      <td>867</td>\n",
       "      <td>286</td>\n",
       "      <td>1054</td>\n",
       "      <td>561</td>\n",
       "      <td>457</td>\n",
       "      <td>478</td>\n",
       "      <td>...</td>\n",
       "      <td>1.094077</td>\n",
       "      <td>1.032197</td>\n",
       "      <td>848</td>\n",
       "      <td>650</td>\n",
       "      <td>689</td>\n",
       "      <td>1441</td>\n",
       "      <td>871</td>\n",
       "      <td>287</td>\n",
       "      <td>1056</td>\n",
       "      <td>1</td>\n",
       "    </tr>\n",
       "    <tr>\n",
       "      <th>12</th>\n",
       "      <td>870</td>\n",
       "      <td>950</td>\n",
       "      <td>1041</td>\n",
       "      <td>938</td>\n",
       "      <td>957</td>\n",
       "      <td>1558</td>\n",
       "      <td>998</td>\n",
       "      <td>617</td>\n",
       "      <td>704</td>\n",
       "      <td>785</td>\n",
       "      <td>...</td>\n",
       "      <td>1.007697</td>\n",
       "      <td>1.019038</td>\n",
       "      <td>870</td>\n",
       "      <td>950</td>\n",
       "      <td>1044</td>\n",
       "      <td>939</td>\n",
       "      <td>958</td>\n",
       "      <td>1559</td>\n",
       "      <td>998</td>\n",
       "      <td>1</td>\n",
       "    </tr>\n",
       "    <tr>\n",
       "      <th>13</th>\n",
       "      <td>699</td>\n",
       "      <td>704</td>\n",
       "      <td>903</td>\n",
       "      <td>833</td>\n",
       "      <td>852</td>\n",
       "      <td>787</td>\n",
       "      <td>1034</td>\n",
       "      <td>460</td>\n",
       "      <td>531</td>\n",
       "      <td>707</td>\n",
       "      <td>...</td>\n",
       "      <td>1.133080</td>\n",
       "      <td>1.124397</td>\n",
       "      <td>700</td>\n",
       "      <td>705</td>\n",
       "      <td>906</td>\n",
       "      <td>836</td>\n",
       "      <td>855</td>\n",
       "      <td>789</td>\n",
       "      <td>1037</td>\n",
       "      <td>1</td>\n",
       "    </tr>\n",
       "    <tr>\n",
       "      <th>14</th>\n",
       "      <td>683</td>\n",
       "      <td>558</td>\n",
       "      <td>882</td>\n",
       "      <td>821</td>\n",
       "      <td>783</td>\n",
       "      <td>1106</td>\n",
       "      <td>849</td>\n",
       "      <td>468</td>\n",
       "      <td>466</td>\n",
       "      <td>692</td>\n",
       "      <td>...</td>\n",
       "      <td>1.046931</td>\n",
       "      <td>1.035211</td>\n",
       "      <td>684</td>\n",
       "      <td>559</td>\n",
       "      <td>885</td>\n",
       "      <td>825</td>\n",
       "      <td>786</td>\n",
       "      <td>1108</td>\n",
       "      <td>852</td>\n",
       "      <td>1</td>\n",
       "    </tr>\n",
       "    <tr>\n",
       "      <th>15</th>\n",
       "      <td>780</td>\n",
       "      <td>716</td>\n",
       "      <td>1006</td>\n",
       "      <td>1238</td>\n",
       "      <td>1106</td>\n",
       "      <td>1116</td>\n",
       "      <td>773</td>\n",
       "      <td>536</td>\n",
       "      <td>544</td>\n",
       "      <td>728</td>\n",
       "      <td>...</td>\n",
       "      <td>1.025939</td>\n",
       "      <td>1.039948</td>\n",
       "      <td>782</td>\n",
       "      <td>718</td>\n",
       "      <td>1007</td>\n",
       "      <td>1241</td>\n",
       "      <td>1106</td>\n",
       "      <td>1118</td>\n",
       "      <td>776</td>\n",
       "      <td>1</td>\n",
       "    </tr>\n",
       "    <tr>\n",
       "      <th>16</th>\n",
       "      <td>860</td>\n",
       "      <td>85</td>\n",
       "      <td>0</td>\n",
       "      <td>707</td>\n",
       "      <td>754</td>\n",
       "      <td>906</td>\n",
       "      <td>924</td>\n",
       "      <td>623</td>\n",
       "      <td>59</td>\n",
       "      <td>0</td>\n",
       "      <td>...</td>\n",
       "      <td>1.033113</td>\n",
       "      <td>1.035676</td>\n",
       "      <td>860</td>\n",
       "      <td>85</td>\n",
       "      <td>0</td>\n",
       "      <td>708</td>\n",
       "      <td>756</td>\n",
       "      <td>906</td>\n",
       "      <td>925</td>\n",
       "      <td>1</td>\n",
       "    </tr>\n",
       "    <tr>\n",
       "      <th>17</th>\n",
       "      <td>803</td>\n",
       "      <td>924</td>\n",
       "      <td>200</td>\n",
       "      <td>865</td>\n",
       "      <td>741</td>\n",
       "      <td>672</td>\n",
       "      <td>942</td>\n",
       "      <td>615</td>\n",
       "      <td>662</td>\n",
       "      <td>142</td>\n",
       "      <td>...</td>\n",
       "      <td>1.047407</td>\n",
       "      <td>1.017989</td>\n",
       "      <td>805</td>\n",
       "      <td>926</td>\n",
       "      <td>201</td>\n",
       "      <td>866</td>\n",
       "      <td>744</td>\n",
       "      <td>675</td>\n",
       "      <td>945</td>\n",
       "      <td>1</td>\n",
       "    </tr>\n",
       "    <tr>\n",
       "      <th>18</th>\n",
       "      <td>810</td>\n",
       "      <td>970</td>\n",
       "      <td>675</td>\n",
       "      <td>424</td>\n",
       "      <td>605</td>\n",
       "      <td>825</td>\n",
       "      <td>1237</td>\n",
       "      <td>586</td>\n",
       "      <td>724</td>\n",
       "      <td>476</td>\n",
       "      <td>...</td>\n",
       "      <td>1.025424</td>\n",
       "      <td>1.046005</td>\n",
       "      <td>814</td>\n",
       "      <td>971</td>\n",
       "      <td>678</td>\n",
       "      <td>428</td>\n",
       "      <td>605</td>\n",
       "      <td>826</td>\n",
       "      <td>1239</td>\n",
       "      <td>1</td>\n",
       "    </tr>\n",
       "    <tr>\n",
       "      <th>19</th>\n",
       "      <td>792</td>\n",
       "      <td>826</td>\n",
       "      <td>1017</td>\n",
       "      <td>1496</td>\n",
       "      <td>1000</td>\n",
       "      <td>876</td>\n",
       "      <td>786</td>\n",
       "      <td>581</td>\n",
       "      <td>658</td>\n",
       "      <td>716</td>\n",
       "      <td>...</td>\n",
       "      <td>1.038769</td>\n",
       "      <td>1.038119</td>\n",
       "      <td>795</td>\n",
       "      <td>827</td>\n",
       "      <td>1020</td>\n",
       "      <td>1496</td>\n",
       "      <td>1001</td>\n",
       "      <td>877</td>\n",
       "      <td>787</td>\n",
       "      <td>1</td>\n",
       "    </tr>\n",
       "    <tr>\n",
       "      <th>20</th>\n",
       "      <td>972</td>\n",
       "      <td>873</td>\n",
       "      <td>693</td>\n",
       "      <td>988</td>\n",
       "      <td>887</td>\n",
       "      <td>1274</td>\n",
       "      <td>981</td>\n",
       "      <td>734</td>\n",
       "      <td>599</td>\n",
       "      <td>486</td>\n",
       "      <td>...</td>\n",
       "      <td>1.048589</td>\n",
       "      <td>1.104781</td>\n",
       "      <td>975</td>\n",
       "      <td>878</td>\n",
       "      <td>694</td>\n",
       "      <td>989</td>\n",
       "      <td>891</td>\n",
       "      <td>1276</td>\n",
       "      <td>983</td>\n",
       "      <td>1</td>\n",
       "    </tr>\n",
       "    <tr>\n",
       "      <th>21</th>\n",
       "      <td>728</td>\n",
       "      <td>862</td>\n",
       "      <td>547</td>\n",
       "      <td>790</td>\n",
       "      <td>788</td>\n",
       "      <td>1286</td>\n",
       "      <td>1034</td>\n",
       "      <td>560</td>\n",
       "      <td>625</td>\n",
       "      <td>370</td>\n",
       "      <td>...</td>\n",
       "      <td>1.054222</td>\n",
       "      <td>1.025024</td>\n",
       "      <td>732</td>\n",
       "      <td>862</td>\n",
       "      <td>550</td>\n",
       "      <td>791</td>\n",
       "      <td>790</td>\n",
       "      <td>1291</td>\n",
       "      <td>1039</td>\n",
       "      <td>1</td>\n",
       "    </tr>\n",
       "    <tr>\n",
       "      <th>22</th>\n",
       "      <td>958</td>\n",
       "      <td>797</td>\n",
       "      <td>647</td>\n",
       "      <td>20</td>\n",
       "      <td>765</td>\n",
       "      <td>891</td>\n",
       "      <td>733</td>\n",
       "      <td>679</td>\n",
       "      <td>558</td>\n",
       "      <td>429</td>\n",
       "      <td>...</td>\n",
       "      <td>1.079507</td>\n",
       "      <td>1.051491</td>\n",
       "      <td>959</td>\n",
       "      <td>798</td>\n",
       "      <td>647</td>\n",
       "      <td>21</td>\n",
       "      <td>765</td>\n",
       "      <td>893</td>\n",
       "      <td>738</td>\n",
       "      <td>1</td>\n",
       "    </tr>\n",
       "    <tr>\n",
       "      <th>23</th>\n",
       "      <td>613</td>\n",
       "      <td>695</td>\n",
       "      <td>877</td>\n",
       "      <td>815</td>\n",
       "      <td>129</td>\n",
       "      <td>1363</td>\n",
       "      <td>1430</td>\n",
       "      <td>468</td>\n",
       "      <td>563</td>\n",
       "      <td>629</td>\n",
       "      <td>...</td>\n",
       "      <td>1.010989</td>\n",
       "      <td>1.051640</td>\n",
       "      <td>615</td>\n",
       "      <td>698</td>\n",
       "      <td>880</td>\n",
       "      <td>819</td>\n",
       "      <td>129</td>\n",
       "      <td>1365</td>\n",
       "      <td>1433</td>\n",
       "      <td>1</td>\n",
       "    </tr>\n",
       "    <tr>\n",
       "      <th>24</th>\n",
       "      <td>917</td>\n",
       "      <td>0</td>\n",
       "      <td>802</td>\n",
       "      <td>842</td>\n",
       "      <td>708</td>\n",
       "      <td>743</td>\n",
       "      <td>966</td>\n",
       "      <td>733</td>\n",
       "      <td>0</td>\n",
       "      <td>588</td>\n",
       "      <td>...</td>\n",
       "      <td>1.014785</td>\n",
       "      <td>1.020640</td>\n",
       "      <td>918</td>\n",
       "      <td>0</td>\n",
       "      <td>803</td>\n",
       "      <td>844</td>\n",
       "      <td>709</td>\n",
       "      <td>744</td>\n",
       "      <td>969</td>\n",
       "      <td>1</td>\n",
       "    </tr>\n",
       "    <tr>\n",
       "      <th>25</th>\n",
       "      <td>11</td>\n",
       "      <td>4</td>\n",
       "      <td>14</td>\n",
       "      <td>10</td>\n",
       "      <td>14</td>\n",
       "      <td>10</td>\n",
       "      <td>12</td>\n",
       "      <td>11</td>\n",
       "      <td>1</td>\n",
       "      <td>13</td>\n",
       "      <td>...</td>\n",
       "      <td>1.000000</td>\n",
       "      <td>1.000000</td>\n",
       "      <td>11</td>\n",
       "      <td>4</td>\n",
       "      <td>14</td>\n",
       "      <td>10</td>\n",
       "      <td>14</td>\n",
       "      <td>10</td>\n",
       "      <td>12</td>\n",
       "      <td>0</td>\n",
       "    </tr>\n",
       "    <tr>\n",
       "      <th>26</th>\n",
       "      <td>19</td>\n",
       "      <td>13</td>\n",
       "      <td>8</td>\n",
       "      <td>11</td>\n",
       "      <td>9</td>\n",
       "      <td>20</td>\n",
       "      <td>17</td>\n",
       "      <td>16</td>\n",
       "      <td>11</td>\n",
       "      <td>8</td>\n",
       "      <td>...</td>\n",
       "      <td>1.000000</td>\n",
       "      <td>1.000000</td>\n",
       "      <td>19</td>\n",
       "      <td>13</td>\n",
       "      <td>8</td>\n",
       "      <td>11</td>\n",
       "      <td>9</td>\n",
       "      <td>20</td>\n",
       "      <td>17</td>\n",
       "      <td>0</td>\n",
       "    </tr>\n",
       "    <tr>\n",
       "      <th>27</th>\n",
       "      <td>38</td>\n",
       "      <td>26</td>\n",
       "      <td>8</td>\n",
       "      <td>23</td>\n",
       "      <td>11</td>\n",
       "      <td>29</td>\n",
       "      <td>35</td>\n",
       "      <td>25</td>\n",
       "      <td>22</td>\n",
       "      <td>7</td>\n",
       "      <td>...</td>\n",
       "      <td>1.000000</td>\n",
       "      <td>1.000000</td>\n",
       "      <td>38</td>\n",
       "      <td>26</td>\n",
       "      <td>8</td>\n",
       "      <td>23</td>\n",
       "      <td>11</td>\n",
       "      <td>29</td>\n",
       "      <td>35</td>\n",
       "      <td>0</td>\n",
       "    </tr>\n",
       "    <tr>\n",
       "      <th>28</th>\n",
       "      <td>11</td>\n",
       "      <td>13</td>\n",
       "      <td>20</td>\n",
       "      <td>22</td>\n",
       "      <td>20</td>\n",
       "      <td>17</td>\n",
       "      <td>16</td>\n",
       "      <td>9</td>\n",
       "      <td>9</td>\n",
       "      <td>15</td>\n",
       "      <td>...</td>\n",
       "      <td>1.000000</td>\n",
       "      <td>1.000000</td>\n",
       "      <td>11</td>\n",
       "      <td>13</td>\n",
       "      <td>20</td>\n",
       "      <td>22</td>\n",
       "      <td>20</td>\n",
       "      <td>17</td>\n",
       "      <td>16</td>\n",
       "      <td>0</td>\n",
       "    </tr>\n",
       "    <tr>\n",
       "      <th>29</th>\n",
       "      <td>17</td>\n",
       "      <td>21</td>\n",
       "      <td>14</td>\n",
       "      <td>14</td>\n",
       "      <td>16</td>\n",
       "      <td>15</td>\n",
       "      <td>39</td>\n",
       "      <td>14</td>\n",
       "      <td>17</td>\n",
       "      <td>10</td>\n",
       "      <td>...</td>\n",
       "      <td>1.000000</td>\n",
       "      <td>1.000000</td>\n",
       "      <td>17</td>\n",
       "      <td>21</td>\n",
       "      <td>14</td>\n",
       "      <td>14</td>\n",
       "      <td>16</td>\n",
       "      <td>15</td>\n",
       "      <td>39</td>\n",
       "      <td>0</td>\n",
       "    </tr>\n",
       "  </tbody>\n",
       "</table>\n",
       "<p>30 rows × 78 columns</p>\n",
       "</div>"
      ],
      "text/plain": [
       "    NCD_0  NCD_1  NCD_2  NCD_3  NCD_4  NCD_5  NCD_6  AI_0  AI_1  AI_2  \\\n",
       "0     889    939    960    805    805   1143   1121   549   613   587   \n",
       "1     542    473    504    626    647    795    832   366   288   318   \n",
       "2      92     99    196    100    184     79    162    66    59   118   \n",
       "3      90     87     92    344    184    848    184    83    78    76   \n",
       "4     169     98    101     90     96     95    185   141    68    85   \n",
       "5     775    765    935    806    912   1095   1198   614   588   751   \n",
       "6     469   1092    332    354    357    676   1189   348   909   261   \n",
       "7     818    693    756   1099    877    871   1409   578   516   546   \n",
       "8     832    628    898    944    993    983   1037   543   432   627   \n",
       "9     920   1071    833    662    851   1096   1067   659   790   601   \n",
       "10    849    798    863   1150   1087   1086   1037   564   573   641   \n",
       "11    847    649    687   1440    867    286   1054   561   457   478   \n",
       "12    870    950   1041    938    957   1558    998   617   704   785   \n",
       "13    699    704    903    833    852    787   1034   460   531   707   \n",
       "14    683    558    882    821    783   1106    849   468   466   692   \n",
       "15    780    716   1006   1238   1106   1116    773   536   544   728   \n",
       "16    860     85      0    707    754    906    924   623    59     0   \n",
       "17    803    924    200    865    741    672    942   615   662   142   \n",
       "18    810    970    675    424    605    825   1237   586   724   476   \n",
       "19    792    826   1017   1496   1000    876    786   581   658   716   \n",
       "20    972    873    693    988    887   1274    981   734   599   486   \n",
       "21    728    862    547    790    788   1286   1034   560   625   370   \n",
       "22    958    797    647     20    765    891    733   679   558   429   \n",
       "23    613    695    877    815    129   1363   1430   468   563   629   \n",
       "24    917      0    802    842    708    743    966   733     0   588   \n",
       "25     11      4     14     10     14     10     12    11     1    13   \n",
       "26     19     13      8     11      9     20     17    16    11     8   \n",
       "27     38     26      8     23     11     29     35    25    22     7   \n",
       "28     11     13     20     22     20     17     16     9     9    15   \n",
       "29     17     21     14     14     16     15     39    14    17    10   \n",
       "\n",
       "       ...         ADL_5     ADL_6  NAD_0  NAD_1  NAD_2  NAD_3  NAD_4  NAD_5  \\\n",
       "0      ...      1.000000  1.000000    889    939    960    805    805   1143   \n",
       "1      ...      1.000000  1.000000    542    473    504    626    647    795   \n",
       "2      ...      1.000000  1.000000     92     99    196    100    184     79   \n",
       "3      ...      1.000000  1.000000     90     87     92    344    184    848   \n",
       "4      ...      1.000000  1.000000    169     98    101     90     96     95   \n",
       "5      ...      1.000000  1.000000    775    765    935    806    912   1095   \n",
       "6      ...      1.000000  1.000000    469   1092    332    354    357    676   \n",
       "7      ...      1.000000  1.000000    818    693    756   1099    877    871   \n",
       "8      ...      1.000000  1.000000    832    628    898    944    993    983   \n",
       "9      ...      1.000000  1.013109    920   1071    833    662    851   1096   \n",
       "10     ...      1.016575  1.046243    850    799    864   1152   1089   1086   \n",
       "11     ...      1.094077  1.032197    848    650    689   1441    871    287   \n",
       "12     ...      1.007697  1.019038    870    950   1044    939    958   1559   \n",
       "13     ...      1.133080  1.124397    700    705    906    836    855    789   \n",
       "14     ...      1.046931  1.035211    684    559    885    825    786   1108   \n",
       "15     ...      1.025939  1.039948    782    718   1007   1241   1106   1118   \n",
       "16     ...      1.033113  1.035676    860     85      0    708    756    906   \n",
       "17     ...      1.047407  1.017989    805    926    201    866    744    675   \n",
       "18     ...      1.025424  1.046005    814    971    678    428    605    826   \n",
       "19     ...      1.038769  1.038119    795    827   1020   1496   1001    877   \n",
       "20     ...      1.048589  1.104781    975    878    694    989    891   1276   \n",
       "21     ...      1.054222  1.025024    732    862    550    791    790   1291   \n",
       "22     ...      1.079507  1.051491    959    798    647     21    765    893   \n",
       "23     ...      1.010989  1.051640    615    698    880    819    129   1365   \n",
       "24     ...      1.014785  1.020640    918      0    803    844    709    744   \n",
       "25     ...      1.000000  1.000000     11      4     14     10     14     10   \n",
       "26     ...      1.000000  1.000000     19     13      8     11      9     20   \n",
       "27     ...      1.000000  1.000000     38     26      8     23     11     29   \n",
       "28     ...      1.000000  1.000000     11     13     20     22     20     17   \n",
       "29     ...      1.000000  1.000000     17     21     14     14     16     15   \n",
       "\n",
       "    NAD_6  Annotation  \n",
       "0    1121           1  \n",
       "1     832           1  \n",
       "2     162           0  \n",
       "3     184           1  \n",
       "4     185           1  \n",
       "5    1198           1  \n",
       "6    1189           1  \n",
       "7    1409           1  \n",
       "8    1037           1  \n",
       "9    1068           1  \n",
       "10   1038           1  \n",
       "11   1056           1  \n",
       "12    998           1  \n",
       "13   1037           1  \n",
       "14    852           1  \n",
       "15    776           1  \n",
       "16    925           1  \n",
       "17    945           1  \n",
       "18   1239           1  \n",
       "19    787           1  \n",
       "20    983           1  \n",
       "21   1039           1  \n",
       "22    738           1  \n",
       "23   1433           1  \n",
       "24    969           1  \n",
       "25     12           0  \n",
       "26     17           0  \n",
       "27     35           0  \n",
       "28     16           0  \n",
       "29     39           0  \n",
       "\n",
       "[30 rows x 78 columns]"
      ]
     },
     "execution_count": 50,
     "metadata": {},
     "output_type": "execute_result"
    }
   ],
   "source": [
    "import pandas\n",
    "import numpy as np\n",
    "import matplotlib.pyplot as plt\n",
    "import os\n",
    "\n",
    "pathToDataset = \"Twitter-Absolute-Sigma-500.csv\"\n",
    "data = pandas.read_csv(pathToDataset, sep=\",\",encoding=\"utf8\")\n",
    "data.head(30)"
   ]
  },
  {
   "cell_type": "markdown",
   "metadata": {},
   "source": [
    "    3.2 Description des variables\n",
    "    \n",
    "NCD : Number of created discussions\n",
    "AI : Author increase\n",
    "AS(NA) : Attention Level (measured with number of authors)\n",
    "AS(NAC) : Attention Level (measured with number of contributions)\n",
    "BL : Burstiness level\n",
    "NAC : Number of Atomic Containers\n",
    "CS : Contribution Sparseness \n",
    "AT : Author iteration\n",
    "NA :  Number of Authors\n",
    "ADL : Average Discussions Length\n",
    "NAD : Average Discussions Length\n",
    "\n",
    "Parmis ces variables 3 sont des indicateurs relatifs aux auteurs tandis que le reste, 8 variables donc, sont relatifs aux discussions. Dans l'étude qui suit, nous nous poserons la question lors de l'application de nos méthode d'identifier les variables significatives en ségrégant tout d'abord variables d'auteurs et variables de discussions, puis en les fusionnant.\n",
    "\n",
    "Retirer des données à étudier la dernière colonne correspondant au résultat (buzz ou pas buzz)"
   ]
  },
  {
   "cell_type": "markdown",
   "metadata": {},
   "source": [
    "****observation des données sous forme graphique et de leur évolution avec le temps\n",
    "Nous allons dans un premier temps observer les données selon leur catorisation initiale afin de déterminer si par l'observation une intuition peut se dégager.\n"
   ]
  },
  {
   "cell_type": "code",
   "execution_count": 2,
   "metadata": {
    "collapsed": false
   },
   "outputs": [
    {
     "name": "stdout",
     "output_type": "stream",
     "text": [
      "(140707, 77)\n"
     ]
    }
   ],
   "source": [
    "#normalisation de donnee par la moyenne\n",
    "df_nonNormalized = data.iloc[:, :77]\n",
    "print(df_nonNormalized.shape)\n",
    "y = data.iloc[:,77]\n",
    "\n",
    "\n",
    "cccolumn = df_nonNormalized\n",
    "#cccolumn[cccolumn==0] = 1\n",
    "stdColumns = cccolumn.std()\n",
    "#stdColumns[stdColumns == 0] = 1\n",
    "df_Normalized =(df_nonNormalized - df_nonNormalized.mean()) / stdColumns"
   ]
  },
  {
   "cell_type": "markdown",
   "metadata": {},
   "source": [
    "# Quelques exemples "
   ]
  },
  {
   "cell_type": "code",
   "execution_count": 12,
   "metadata": {
    "collapsed": false
   },
   "outputs": [],
   "source": [
    "import matplotlib.pyplot as plt\n",
    "from matplotlib import gridspec\n",
    "%matplotlib inline\n",
    "\n",
    "# n : number of observations we wish to display\n",
    "def plotBuzz(originalData,n,withbuzz,withoutbuzz):\n",
    "    notbuzzindex = np.where(y==0)[0][0:n]\n",
    "    buzzindex = np.where(y==1)[0][0:n]\n",
    "    \n",
    "    varsToDisplay= np.arange(0,77,7)\n",
    "    variableNames = originalData.iloc[:,varsToDisplay].columns\n",
    "\n",
    "    buzz = originalData.iloc[buzzindex,:]\n",
    "    notbuzz = originalData.iloc[notbuzzindex,:]\n",
    "    \n",
    "    x= np.arange(0,7)\n",
    "    gs = gridspec.GridSpec(6, 2)\n",
    "    fig1 = plt.figure(num=1, figsize=(18, 20), dpi=80, facecolor='w', edgecolor='k')\n",
    "    for i in range(0,7) :  \n",
    "        if(i != 3):\n",
    "            ax = fig1.add_subplot(gs[i])\n",
    "            if withbuzz == 1 :\n",
    "                ax.plot(x,buzz.iloc[:,i:i+7].transpose(),'-o', label = 'buzz')\n",
    "            if withoutbuzz == 1 : \n",
    "                ax.plot(x,notbuzz.iloc[:,i:i+7].transpose(),'-^', label = 'no buzz')\n",
    "            plt.xlabel('t', fontsize=18)\n",
    "            ax.xaxis.set_label_coords(1.02, -0.025)\n",
    "            plt.title(variableNames[i], fontsize=20, fontname=\"Bold\")\n",
    "            #ax.legend(loc='best')"
   ]
  },
  {
   "cell_type": "code",
   "execution_count": 13,
   "metadata": {
    "collapsed": false
   },
   "outputs": [
    {
     "data": {
      "image/png": "[encoded data removed]",
      "text/plain": [
       "<matplotlib.figure.Figure at 0x5de53c8>"
      ]
     },
     "metadata": {},
     "output_type": "display_data"
    }
   ],
   "source": [
    "plotBuzz(df_Normalized,6,1,1)\n",
    "#df_Normalized.iloc[:,0:7]\n",
    "#np.where(y==0)[0][0:4]"
   ]
  },
  {
   "cell_type": "markdown",
   "metadata": {},
   "source": [
    "L'observation nous permet de degager une observation majeur. L'etat de Buzz est soit une fonction croissante des variables AS, NA, NAC,AS(NAC). Ou un Buzz peut etre caracterise par la croissance soudaine d'une ou plusieurs variables.\n",
    "En ce sens il est pertinent pour notre prediction de considerer les acroissements en T0 et T6. Nous considererons les accroissements entre la periode T0 et la valeur MAX atteinte entre T1 et T6.\n"
   ]
  },
  {
   "cell_type": "code",
   "execution_count": null,
   "metadata": {
    "collapsed": true
   },
   "outputs": [],
   "source": []
  },
  {
   "cell_type": "code",
   "execution_count": 24,
   "metadata": {
    "collapsed": false
   },
   "outputs": [
    {
     "name": "stderr",
     "output_type": "stream",
     "text": [
      "D:\\PyEnsae\\python\\lib\\site-packages\\ipykernel\\__main__.py:17: SettingWithCopyWarning: \n",
      "A value is trying to be set on a copy of a slice from a DataFrame\n",
      "\n",
      "See the caveats in the documentation: http://pandas.pydata.org/pandas-docs/stable/indexing.html#indexing-view-versus-copy\n"
     ]
    }
   ],
   "source": [
    "indices_variables_auteurs = [7,49,56]\n",
    "#ajoout de variable d'accroissement\n",
    "t = []\n",
    "for i in range(0,76) : \n",
    "    ind = i %7\n",
    "    if(ind == 0):\n",
    "        t.append(i)\n",
    "\n",
    "t = np.asarray(t)\n",
    "\n",
    "accroissements = pandas.DataFrame({})\n",
    "for i in t :\n",
    "    maxes = df_nonNormalized.iloc[:,i:i+7].max(1)\n",
    "#    maxes = df_nonNormalized.iloc[:,i+6]\n",
    "    cccolumn = df_nonNormalized.iloc[:,i]\n",
    "    # Pour les variables qui commencent a 0, eviter de diviser par 0\n",
    "    cccolumn[cccolumn==0] = 1\n",
    "#    accroissements[i] = (maxes - df_nonNormalized.iloc[:,i])/column\n",
    "    accroissements[i] = (maxes - cccolumn)/cccolumn*100 #df_nonNormalized.iloc[:,i+6]\n",
    "accroissements.columns = df_nonNormalized.iloc[:,t].columns + \"_increase\"\n",
    "#df_nonNormalized = pandas.concat([df_nonNormalized,accroissements],axis =1)"
   ]
  },
  {
   "cell_type": "code",
   "execution_count": 25,
   "metadata": {
    "collapsed": false
   },
   "outputs": [
    {
     "data": {
      "text/html": [
       "<div>\n",
       "<table border=\"1\" class=\"dataframe\">\n",
       "  <thead>\n",
       "    <tr style=\"text-align: right;\">\n",
       "      <th></th>\n",
       "      <th>NCD_0_increase</th>\n",
       "      <th>AI_0_increase</th>\n",
       "      <th>AS(NA)_0_increase</th>\n",
       "      <th>BL_0_increase</th>\n",
       "      <th>NAC_0_increase</th>\n",
       "      <th>AS(NAC)_0_increase</th>\n",
       "      <th>CS_0_increase</th>\n",
       "      <th>AT_0_increase</th>\n",
       "      <th>NA_0_increase</th>\n",
       "      <th>ADL_0_increase</th>\n",
       "      <th>NAD_0_increase</th>\n",
       "    </tr>\n",
       "  </thead>\n",
       "  <tbody>\n",
       "    <tr>\n",
       "      <th>0</th>\n",
       "      <td>28.571429</td>\n",
       "      <td>26.775956</td>\n",
       "      <td>23.972603</td>\n",
       "      <td>0</td>\n",
       "      <td>28.571429</td>\n",
       "      <td>28.507795</td>\n",
       "      <td>0</td>\n",
       "      <td>0.0000</td>\n",
       "      <td>23.899371</td>\n",
       "      <td>0.0000</td>\n",
       "      <td>28.571429</td>\n",
       "    </tr>\n",
       "    <tr>\n",
       "      <th>1</th>\n",
       "      <td>53.505535</td>\n",
       "      <td>48.907104</td>\n",
       "      <td>41.005803</td>\n",
       "      <td>0</td>\n",
       "      <td>53.505535</td>\n",
       "      <td>44.186047</td>\n",
       "      <td>0</td>\n",
       "      <td>0.0000</td>\n",
       "      <td>56.280193</td>\n",
       "      <td>0.0000</td>\n",
       "      <td>53.505535</td>\n",
       "    </tr>\n",
       "    <tr>\n",
       "      <th>2</th>\n",
       "      <td>113.043478</td>\n",
       "      <td>98.484848</td>\n",
       "      <td>164.102564</td>\n",
       "      <td>0</td>\n",
       "      <td>113.043478</td>\n",
       "      <td>173.529412</td>\n",
       "      <td>0</td>\n",
       "      <td>0.0000</td>\n",
       "      <td>94.666667</td>\n",
       "      <td>0.0000</td>\n",
       "      <td>113.043478</td>\n",
       "    </tr>\n",
       "    <tr>\n",
       "      <th>3</th>\n",
       "      <td>842.222222</td>\n",
       "      <td>738.554217</td>\n",
       "      <td>635.398230</td>\n",
       "      <td>0</td>\n",
       "      <td>842.222222</td>\n",
       "      <td>711.258278</td>\n",
       "      <td>0</td>\n",
       "      <td>0.0000</td>\n",
       "      <td>792.134831</td>\n",
       "      <td>0.0000</td>\n",
       "      <td>842.222222</td>\n",
       "    </tr>\n",
       "    <tr>\n",
       "      <th>4</th>\n",
       "      <td>9.467456</td>\n",
       "      <td>13.475177</td>\n",
       "      <td>16.867470</td>\n",
       "      <td>0</td>\n",
       "      <td>9.467456</td>\n",
       "      <td>14.285714</td>\n",
       "      <td>0</td>\n",
       "      <td>0.0000</td>\n",
       "      <td>12.883436</td>\n",
       "      <td>0.0000</td>\n",
       "      <td>9.467456</td>\n",
       "    </tr>\n",
       "    <tr>\n",
       "      <th>5</th>\n",
       "      <td>54.580645</td>\n",
       "      <td>34.853420</td>\n",
       "      <td>39.476961</td>\n",
       "      <td>0</td>\n",
       "      <td>54.580645</td>\n",
       "      <td>46.212121</td>\n",
       "      <td>0</td>\n",
       "      <td>0.0000</td>\n",
       "      <td>51.079137</td>\n",
       "      <td>0.0000</td>\n",
       "      <td>54.580645</td>\n",
       "    </tr>\n",
       "    <tr>\n",
       "      <th>6</th>\n",
       "      <td>153.518124</td>\n",
       "      <td>161.206897</td>\n",
       "      <td>108.409506</td>\n",
       "      <td>0</td>\n",
       "      <td>153.518124</td>\n",
       "      <td>105.300353</td>\n",
       "      <td>0</td>\n",
       "      <td>0.0000</td>\n",
       "      <td>138.274336</td>\n",
       "      <td>0.0000</td>\n",
       "      <td>153.518124</td>\n",
       "    </tr>\n",
       "    <tr>\n",
       "      <th>7</th>\n",
       "      <td>72.249389</td>\n",
       "      <td>107.266436</td>\n",
       "      <td>76.720901</td>\n",
       "      <td>0</td>\n",
       "      <td>72.249389</td>\n",
       "      <td>69.095477</td>\n",
       "      <td>0</td>\n",
       "      <td>0.0910</td>\n",
       "      <td>81.436314</td>\n",
       "      <td>0.0910</td>\n",
       "      <td>72.249389</td>\n",
       "    </tr>\n",
       "    <tr>\n",
       "      <th>8</th>\n",
       "      <td>24.639423</td>\n",
       "      <td>36.648250</td>\n",
       "      <td>19.385343</td>\n",
       "      <td>0</td>\n",
       "      <td>24.639423</td>\n",
       "      <td>15.479115</td>\n",
       "      <td>0</td>\n",
       "      <td>0.0000</td>\n",
       "      <td>26.718547</td>\n",
       "      <td>0.0000</td>\n",
       "      <td>24.639423</td>\n",
       "    </tr>\n",
       "    <tr>\n",
       "      <th>9</th>\n",
       "      <td>19.130435</td>\n",
       "      <td>23.065250</td>\n",
       "      <td>23.049220</td>\n",
       "      <td>0</td>\n",
       "      <td>19.130435</td>\n",
       "      <td>19.801980</td>\n",
       "      <td>0</td>\n",
       "      <td>1.2172</td>\n",
       "      <td>16.435185</td>\n",
       "      <td>1.3109</td>\n",
       "      <td>19.130435</td>\n",
       "    </tr>\n",
       "  </tbody>\n",
       "</table>\n",
       "</div>"
      ],
      "text/plain": [
       "   NCD_0_increase  AI_0_increase  AS(NA)_0_increase  BL_0_increase  \\\n",
       "0       28.571429      26.775956          23.972603              0   \n",
       "1       53.505535      48.907104          41.005803              0   \n",
       "2      113.043478      98.484848         164.102564              0   \n",
       "3      842.222222     738.554217         635.398230              0   \n",
       "4        9.467456      13.475177          16.867470              0   \n",
       "5       54.580645      34.853420          39.476961              0   \n",
       "6      153.518124     161.206897         108.409506              0   \n",
       "7       72.249389     107.266436          76.720901              0   \n",
       "8       24.639423      36.648250          19.385343              0   \n",
       "9       19.130435      23.065250          23.049220              0   \n",
       "\n",
       "   NAC_0_increase  AS(NAC)_0_increase  CS_0_increase  AT_0_increase  \\\n",
       "0       28.571429           28.507795              0         0.0000   \n",
       "1       53.505535           44.186047              0         0.0000   \n",
       "2      113.043478          173.529412              0         0.0000   \n",
       "3      842.222222          711.258278              0         0.0000   \n",
       "4        9.467456           14.285714              0         0.0000   \n",
       "5       54.580645           46.212121              0         0.0000   \n",
       "6      153.518124          105.300353              0         0.0000   \n",
       "7       72.249389           69.095477              0         0.0910   \n",
       "8       24.639423           15.479115              0         0.0000   \n",
       "9       19.130435           19.801980              0         1.2172   \n",
       "\n",
       "   NA_0_increase  ADL_0_increase  NAD_0_increase  \n",
       "0      23.899371          0.0000       28.571429  \n",
       "1      56.280193          0.0000       53.505535  \n",
       "2      94.666667          0.0000      113.043478  \n",
       "3     792.134831          0.0000      842.222222  \n",
       "4      12.883436          0.0000        9.467456  \n",
       "5      51.079137          0.0000       54.580645  \n",
       "6     138.274336          0.0000      153.518124  \n",
       "7      81.436314          0.0910       72.249389  \n",
       "8      26.718547          0.0000       24.639423  \n",
       "9      16.435185          1.3109       19.130435  "
      ]
     },
     "execution_count": 25,
     "metadata": {},
     "output_type": "execute_result"
    }
   ],
   "source": [
    "accroissements.head(10)"
   ]
  },
  {
   "cell_type": "markdown",
   "metadata": {},
   "source": [
    "# 3. Méthode 1 : K-NN neighbours classifier"
   ]
  },
  {
   "cell_type": "code",
   "execution_count": 26,
   "metadata": {
    "collapsed": false
   },
   "outputs": [],
   "source": [
    "from sklearn.cross_validation import KFold\n",
    "from sklearn import neighbors\n",
    "from sklearn.cross_validation import cross_val_predict\n",
    "from sklearn.metrics import zero_one_loss\n",
    "from sklearn.metrics import accuracy_score\n",
    "from sklearn.cross_validation import cross_val_predict\n",
    "\n",
    "#Cross-validation testing (using 5 folds)\n",
    "def knnClassifier(data,y,n_jobs):\n",
    "    scores = np.zeros((10,5))\n",
    "    for n_neighbors in range(1,11):\n",
    "        clf = neighbors.KNeighborsClassifier(n_neighbors, weights=\"uniform\",metric=\"manhattan\",p=2,n_jobs=n_jobs)\n",
    "        predicted = cross_val_predict(clf, data,y, cv=5)\n",
    "        scores[n_neighbors - 1] = 1 - zero_one_loss(y,predicted,normalize=True)\n",
    "    mean_scores = scores.mean(1)\n",
    "    kmax = mean_scores.argmax() \n",
    "    print(\"K choisi : \",kmax,\" pour le score : \", mean_scores[kmax -1])\n",
    "    return(predicted)\n",
    "\n",
    "    \n",
    "def knnClassifierWithAccuracy(data,y,n_jobs):\n",
    "    scores = np.zeros((10,5))\n",
    "    accuracy = np.zeros(10)\n",
    "    for n_neighbors in range(1,11):\n",
    "        clf = neighbors.KNeighborsClassifier(n_neighbors, weights=\"uniform\",metric=\"manhattan\",p=2,n_jobs=n_jobs)\n",
    "        y_predict = cross_val_predict(clf, data, y= y, cv=5)\n",
    "        accuracy[n_neighbors - 1] = accuracy_score(y, y_predict)\n",
    "    k = accuracy.argmax()\n",
    "    print(\"K choisi : \",k,\" pour le score : \", accuracy[k])"
   ]
  },
  {
   "cell_type": "code",
   "execution_count": 27,
   "metadata": {
    "collapsed": false
   },
   "outputs": [
    {
     "name": "stdout",
     "output_type": "stream",
     "text": [
      "K choisi :  9  pour le score :  0.80364160987\n",
      "277.0496935058029 seconds\n"
     ]
    }
   ],
   "source": [
    "#on run Knn sur nos variables d'accroissement\n",
    "import timeit\n",
    "start_time = timeit.default_timer()\n",
    "cc= knnClassifier(accroissements,y,-1)\n",
    "elapsed = timeit.default_timer() - start_time\n",
    "print(elapsed,\"seconds\")"
   ]
  },
  {
   "cell_type": "code",
   "execution_count": 28,
   "metadata": {
    "collapsed": false
   },
   "outputs": [
    {
     "data": {
      "text/plain": [
       "140707"
      ]
     },
     "execution_count": 28,
     "metadata": {},
     "output_type": "execute_result"
    }
   ],
   "source": [
    "len(cc)"
   ]
  },
  {
   "cell_type": "code",
   "execution_count": 29,
   "metadata": {
    "collapsed": false
   },
   "outputs": [
    {
     "data": {
      "text/plain": [
       "array([[107483,   5449],\n",
       "       [ 21419,   6356]])"
      ]
     },
     "execution_count": 29,
     "metadata": {},
     "output_type": "execute_result"
    }
   ],
   "source": [
    "#on creer la matrice de confusion\n",
    "from sklearn.metrics import confusion_matrix as cm\n",
    "cm(y,cc)\n"
   ]
  },
  {
   "cell_type": "code",
   "execution_count": 131,
   "metadata": {
    "collapsed": false
   },
   "outputs": [],
   "source": []
  },
  {
   "cell_type": "code",
   "execution_count": 130,
   "metadata": {
    "collapsed": false
   },
   "outputs": [
    {
     "ename": "TypeError",
     "evalue": "Image data can not convert to float",
     "output_type": "error",
     "traceback": [
      "\u001b[1;31m---------------------------------------------------------------------------\u001b[0m",
      "\u001b[1;31mTypeError\u001b[0m                                 Traceback (most recent call last)",
      "\u001b[1;32m<ipython-input-130-65777df05463>\u001b[0m in \u001b[0;36m<module>\u001b[1;34m()\u001b[0m\n\u001b[0;32m      1\u001b[0m \u001b[1;32mfrom\u001b[0m \u001b[0mPIL\u001b[0m \u001b[1;32mimport\u001b[0m \u001b[0mImage\u001b[0m\u001b[1;33m\u001b[0m\u001b[0m\n\u001b[0;32m      2\u001b[0m \u001b[1;33m\u001b[0m\u001b[0m\n\u001b[1;32m----> 3\u001b[1;33m \u001b[0mplt\u001b[0m\u001b[1;33m.\u001b[0m\u001b[0mimshow\u001b[0m\u001b[1;33m(\u001b[0m\u001b[0mcm\u001b[0m\u001b[1;33m,\u001b[0m \u001b[0minterpolation\u001b[0m\u001b[1;33m=\u001b[0m\u001b[1;34m'nearest'\u001b[0m\u001b[1;33m)\u001b[0m\u001b[1;33m\u001b[0m\u001b[0m\n\u001b[0m\u001b[0;32m      4\u001b[0m \u001b[0mplt\u001b[0m\u001b[1;33m.\u001b[0m\u001b[0mxticks\u001b[0m\u001b[1;33m(\u001b[0m\u001b[0mnp\u001b[0m\u001b[1;33m.\u001b[0m\u001b[0marange\u001b[0m\u001b[1;33m(\u001b[0m\u001b[1;36m0\u001b[0m\u001b[1;33m,\u001b[0m\u001b[1;36m1\u001b[0m\u001b[1;33m)\u001b[0m\u001b[1;33m,\u001b[0m \u001b[1;33m[\u001b[0m\u001b[1;34m'0'\u001b[0m\u001b[1;33m,\u001b[0m \u001b[1;34m'1'\u001b[0m\u001b[1;33m]\u001b[0m\u001b[1;33m)\u001b[0m\u001b[1;33m\u001b[0m\u001b[0m\n\u001b[0;32m      5\u001b[0m \u001b[0mplt\u001b[0m\u001b[1;33m.\u001b[0m\u001b[0myticks\u001b[0m\u001b[1;33m(\u001b[0m\u001b[0mnp\u001b[0m\u001b[1;33m.\u001b[0m\u001b[0marange\u001b[0m\u001b[1;33m(\u001b[0m\u001b[1;36m0\u001b[0m\u001b[1;33m,\u001b[0m\u001b[1;36m1\u001b[0m\u001b[1;33m)\u001b[0m\u001b[1;33m,\u001b[0m \u001b[1;33m[\u001b[0m\u001b[1;34m'0'\u001b[0m\u001b[1;33m,\u001b[0m \u001b[1;34m'1'\u001b[0m\u001b[1;33m]\u001b[0m\u001b[1;33m)\u001b[0m\u001b[1;33m\u001b[0m\u001b[0m\n",
      "\u001b[1;32mD:\\pyensae\\python\\lib\\site-packages\\matplotlib\\pyplot.py\u001b[0m in \u001b[0;36mimshow\u001b[1;34m(X, cmap, norm, aspect, interpolation, alpha, vmin, vmax, origin, extent, shape, filternorm, filterrad, imlim, resample, url, hold, data, **kwargs)\u001b[0m\n\u001b[0;32m   3020\u001b[0m                         \u001b[0mfilternorm\u001b[0m\u001b[1;33m=\u001b[0m\u001b[0mfilternorm\u001b[0m\u001b[1;33m,\u001b[0m \u001b[0mfilterrad\u001b[0m\u001b[1;33m=\u001b[0m\u001b[0mfilterrad\u001b[0m\u001b[1;33m,\u001b[0m\u001b[1;33m\u001b[0m\u001b[0m\n\u001b[0;32m   3021\u001b[0m                         \u001b[0mimlim\u001b[0m\u001b[1;33m=\u001b[0m\u001b[0mimlim\u001b[0m\u001b[1;33m,\u001b[0m \u001b[0mresample\u001b[0m\u001b[1;33m=\u001b[0m\u001b[0mresample\u001b[0m\u001b[1;33m,\u001b[0m \u001b[0murl\u001b[0m\u001b[1;33m=\u001b[0m\u001b[0murl\u001b[0m\u001b[1;33m,\u001b[0m \u001b[0mdata\u001b[0m\u001b[1;33m=\u001b[0m\u001b[0mdata\u001b[0m\u001b[1;33m,\u001b[0m\u001b[1;33m\u001b[0m\u001b[0m\n\u001b[1;32m-> 3022\u001b[1;33m                         **kwargs)\n\u001b[0m\u001b[0;32m   3023\u001b[0m     \u001b[1;32mfinally\u001b[0m\u001b[1;33m:\u001b[0m\u001b[1;33m\u001b[0m\u001b[0m\n\u001b[0;32m   3024\u001b[0m         \u001b[0max\u001b[0m\u001b[1;33m.\u001b[0m\u001b[0mhold\u001b[0m\u001b[1;33m(\u001b[0m\u001b[0mwashold\u001b[0m\u001b[1;33m)\u001b[0m\u001b[1;33m\u001b[0m\u001b[0m\n",
      "\u001b[1;32mD:\\pyensae\\python\\lib\\site-packages\\matplotlib\\__init__.py\u001b[0m in \u001b[0;36minner\u001b[1;34m(ax, *args, **kwargs)\u001b[0m\n\u001b[0;32m   1809\u001b[0m                     warnings.warn(msg % (label_namer, func.__name__),\n\u001b[0;32m   1810\u001b[0m                                   RuntimeWarning, stacklevel=2)\n\u001b[1;32m-> 1811\u001b[1;33m             \u001b[1;32mreturn\u001b[0m \u001b[0mfunc\u001b[0m\u001b[1;33m(\u001b[0m\u001b[0max\u001b[0m\u001b[1;33m,\u001b[0m \u001b[1;33m*\u001b[0m\u001b[0margs\u001b[0m\u001b[1;33m,\u001b[0m \u001b[1;33m**\u001b[0m\u001b[0mkwargs\u001b[0m\u001b[1;33m)\u001b[0m\u001b[1;33m\u001b[0m\u001b[0m\n\u001b[0m\u001b[0;32m   1812\u001b[0m         \u001b[0mpre_doc\u001b[0m \u001b[1;33m=\u001b[0m \u001b[0minner\u001b[0m\u001b[1;33m.\u001b[0m\u001b[0m__doc__\u001b[0m\u001b[1;33m\u001b[0m\u001b[0m\n\u001b[0;32m   1813\u001b[0m         \u001b[1;32mif\u001b[0m \u001b[0mpre_doc\u001b[0m \u001b[1;32mis\u001b[0m \u001b[1;32mNone\u001b[0m\u001b[1;33m:\u001b[0m\u001b[1;33m\u001b[0m\u001b[0m\n",
      "\u001b[1;32mD:\\pyensae\\python\\lib\\site-packages\\matplotlib\\axes\\_axes.py\u001b[0m in \u001b[0;36mimshow\u001b[1;34m(self, X, cmap, norm, aspect, interpolation, alpha, vmin, vmax, origin, extent, shape, filternorm, filterrad, imlim, resample, url, **kwargs)\u001b[0m\n\u001b[0;32m   4941\u001b[0m                               resample=resample, **kwargs)\n\u001b[0;32m   4942\u001b[0m \u001b[1;33m\u001b[0m\u001b[0m\n\u001b[1;32m-> 4943\u001b[1;33m         \u001b[0mim\u001b[0m\u001b[1;33m.\u001b[0m\u001b[0mset_data\u001b[0m\u001b[1;33m(\u001b[0m\u001b[0mX\u001b[0m\u001b[1;33m)\u001b[0m\u001b[1;33m\u001b[0m\u001b[0m\n\u001b[0m\u001b[0;32m   4944\u001b[0m         \u001b[0mim\u001b[0m\u001b[1;33m.\u001b[0m\u001b[0mset_alpha\u001b[0m\u001b[1;33m(\u001b[0m\u001b[0malpha\u001b[0m\u001b[1;33m)\u001b[0m\u001b[1;33m\u001b[0m\u001b[0m\n\u001b[0;32m   4945\u001b[0m         \u001b[1;32mif\u001b[0m \u001b[0mim\u001b[0m\u001b[1;33m.\u001b[0m\u001b[0mget_clip_path\u001b[0m\u001b[1;33m(\u001b[0m\u001b[1;33m)\u001b[0m \u001b[1;32mis\u001b[0m \u001b[1;32mNone\u001b[0m\u001b[1;33m:\u001b[0m\u001b[1;33m\u001b[0m\u001b[0m\n",
      "\u001b[1;32mD:\\pyensae\\python\\lib\\site-packages\\matplotlib\\image.py\u001b[0m in \u001b[0;36mset_data\u001b[1;34m(self, A)\u001b[0m\n\u001b[0;32m    447\u001b[0m         if (self._A.dtype != np.uint8 and\n\u001b[0;32m    448\u001b[0m                 not np.can_cast(self._A.dtype, np.float)):\n\u001b[1;32m--> 449\u001b[1;33m             \u001b[1;32mraise\u001b[0m \u001b[0mTypeError\u001b[0m\u001b[1;33m(\u001b[0m\u001b[1;34m\"Image data can not convert to float\"\u001b[0m\u001b[1;33m)\u001b[0m\u001b[1;33m\u001b[0m\u001b[0m\n\u001b[0m\u001b[0;32m    450\u001b[0m \u001b[1;33m\u001b[0m\u001b[0m\n\u001b[0;32m    451\u001b[0m         if (self._A.ndim not in (2, 3) or\n",
      "\u001b[1;31mTypeError\u001b[0m: Image data can not convert to float"
     ]
    },
    {
     "data": {
      "image/png": "[encoded data removed]",
      "text/plain": [
       "<matplotlib.figure.Figure at 0x891bd68>"
      ]
     },
     "metadata": {},
     "output_type": "display_data"
    }
   ],
   "source": [
    " "
   ]
  },
  {
   "cell_type": "code",
   "execution_count": 47,
   "metadata": {
    "collapsed": false
   },
   "outputs": [
    {
     "ename": "NameError",
     "evalue": "name 'indices' is not defined",
     "output_type": "error",
     "traceback": [
      "\u001b[1;31m---------------------------------------------------------------------------\u001b[0m",
      "\u001b[1;31mNameError\u001b[0m                                 Traceback (most recent call last)",
      "\u001b[1;32m<ipython-input-47-2bec77707e32>\u001b[0m in \u001b[0;36m<module>\u001b[1;34m()\u001b[0m\n\u001b[1;32m----> 1\u001b[1;33m \u001b[0mdf_nonNormalized\u001b[0m\u001b[1;33m.\u001b[0m\u001b[0miloc\u001b[0m\u001b[1;33m[\u001b[0m\u001b[1;36m0\u001b[0m\u001b[1;33m:\u001b[0m\u001b[1;36m4\u001b[0m\u001b[1;33m,\u001b[0m\u001b[0mindices\u001b[0m\u001b[1;33m[\u001b[0m\u001b[1;36m46\u001b[0m\u001b[1;33m:\u001b[0m\u001b[1;36m53\u001b[0m\u001b[1;33m]\u001b[0m\u001b[1;33m]\u001b[0m\u001b[1;33m\u001b[0m\u001b[0m\n\u001b[0m",
      "\u001b[1;31mNameError\u001b[0m: name 'indices' is not defined"
     ]
    }
   ],
   "source": [
    "df_nonNormalized.iloc[0:4,indices[46:53]]"
   ]
  },
  {
   "cell_type": "markdown",
   "metadata": {},
   "source": [
    "# 1.Tentative de sélection de variables : Random Forest\n",
    "On utilise le random forest sur toutes les variables à un seul instant (t=0) pour essayer de voir s'il y en a certaines qui se démarquent, en utilisant les importances de chacunes."
   ]
  },
  {
   "cell_type": "code",
   "execution_count": 29,
   "metadata": {
    "collapsed": false
   },
   "outputs": [
    {
     "ename": "NameError",
     "evalue": "name 't' is not defined",
     "output_type": "error",
     "traceback": [
      "\u001b[1;31m---------------------------------------------------------------------------\u001b[0m",
      "\u001b[1;31mNameError\u001b[0m                                 Traceback (most recent call last)",
      "\u001b[1;32m<ipython-input-29-535f4e947d05>\u001b[0m in \u001b[0;36m<module>\u001b[1;34m()\u001b[0m\n\u001b[0;32m      4\u001b[0m \u001b[0mforest\u001b[0m \u001b[1;33m=\u001b[0m \u001b[0mRandomForestClassifier\u001b[0m\u001b[1;33m(\u001b[0m\u001b[0mn_estimators\u001b[0m\u001b[1;33m=\u001b[0m\u001b[1;36m5\u001b[0m\u001b[1;33m,\u001b[0m\u001b[0mrandom_state\u001b[0m\u001b[1;33m=\u001b[0m\u001b[1;36m0\u001b[0m\u001b[1;33m)\u001b[0m\u001b[1;33m\u001b[0m\u001b[0m\n\u001b[0;32m      5\u001b[0m \u001b[1;33m\u001b[0m\u001b[0m\n\u001b[1;32m----> 6\u001b[1;33m \u001b[0mforest\u001b[0m\u001b[1;33m.\u001b[0m\u001b[0mfit\u001b[0m\u001b[1;33m(\u001b[0m\u001b[0mdf\u001b[0m\u001b[1;33m.\u001b[0m\u001b[0miloc\u001b[0m\u001b[1;33m[\u001b[0m\u001b[1;33m:\u001b[0m\u001b[1;33m,\u001b[0m\u001b[0mt\u001b[0m\u001b[1;33m]\u001b[0m\u001b[1;33m,\u001b[0m \u001b[0my\u001b[0m\u001b[1;33m)\u001b[0m\u001b[1;33m\u001b[0m\u001b[0m\n\u001b[0m\u001b[0;32m      7\u001b[0m \u001b[0mimportances\u001b[0m \u001b[1;33m=\u001b[0m \u001b[0mforest\u001b[0m\u001b[1;33m.\u001b[0m\u001b[0mfeature_importances_\u001b[0m\u001b[1;33m\u001b[0m\u001b[0m\n\u001b[0;32m      8\u001b[0m std = np.std([tree.feature_importances_ for tree in forest.estimators_],\n",
      "\u001b[1;31mNameError\u001b[0m: name 't' is not defined"
     ]
    }
   ],
   "source": [
    "import matplotlib.pyplot as plt\n",
    "from sklearn.ensemble import RandomForestClassifier\n",
    "\n",
    "forest = RandomForestClassifier(n_estimators=5,random_state=0)\n",
    "\n",
    "forest.fit(df.iloc[:,t], y)\n",
    "importances = forest.feature_importances_\n",
    "std = np.std([tree.feature_importances_ for tree in forest.estimators_],\n",
    "             axis=0)\n",
    "indices = np.argsort(importances)[::-1]\n",
    "vraisIndices = t[indices]"
   ]
  },
  {
   "cell_type": "code",
   "execution_count": 87,
   "metadata": {
    "collapsed": false
   },
   "outputs": [
    {
     "ename": "NameError",
     "evalue": "name 'importances' is not defined",
     "output_type": "error",
     "traceback": [
      "\u001b[1;31m---------------------------------------------------------------------------\u001b[0m",
      "\u001b[1;31mNameError\u001b[0m                                 Traceback (most recent call last)",
      "\u001b[1;32m<ipython-input-87-72c006bf9fb7>\u001b[0m in \u001b[0;36m<module>\u001b[1;34m()\u001b[0m\n\u001b[0;32m      1\u001b[0m \u001b[0mget_ipython\u001b[0m\u001b[1;33m(\u001b[0m\u001b[1;33m)\u001b[0m\u001b[1;33m.\u001b[0m\u001b[0mmagic\u001b[0m\u001b[1;33m(\u001b[0m\u001b[1;34m'matplotlib inline'\u001b[0m\u001b[1;33m)\u001b[0m\u001b[1;33m\u001b[0m\u001b[0m\n\u001b[0;32m      2\u001b[0m \u001b[0mplt\u001b[0m\u001b[1;33m.\u001b[0m\u001b[0mtitle\u001b[0m\u001b[1;33m(\u001b[0m\u001b[1;34m\"Feature importances\"\u001b[0m\u001b[1;33m)\u001b[0m\u001b[1;33m\u001b[0m\u001b[0m\n\u001b[1;32m----> 3\u001b[1;33m plt.bar(range(1,len(t)), importances[indices][1:len(t)],\n\u001b[0m\u001b[0;32m      4\u001b[0m        color=\"r\", yerr=std[indices[1:len(t)]], align=\"center\")\n\u001b[0;32m      5\u001b[0m \u001b[0mplt\u001b[0m\u001b[1;33m.\u001b[0m\u001b[0mxticks\u001b[0m\u001b[1;33m(\u001b[0m\u001b[0mrange\u001b[0m\u001b[1;33m(\u001b[0m\u001b[1;36m1\u001b[0m\u001b[1;33m,\u001b[0m\u001b[0mlen\u001b[0m\u001b[1;33m(\u001b[0m\u001b[0mt\u001b[0m\u001b[1;33m)\u001b[0m\u001b[1;33m)\u001b[0m\u001b[1;33m,\u001b[0m \u001b[0mdf\u001b[0m\u001b[1;33m[\u001b[0m\u001b[0mvraisIndices\u001b[0m\u001b[1;33m[\u001b[0m\u001b[1;36m1\u001b[0m\u001b[1;33m:\u001b[0m\u001b[0mlen\u001b[0m\u001b[1;33m(\u001b[0m\u001b[0mt\u001b[0m\u001b[1;33m)\u001b[0m\u001b[1;33m]\u001b[0m\u001b[1;33m]\u001b[0m\u001b[1;33m.\u001b[0m\u001b[0mcolumns\u001b[0m\u001b[1;33m)\u001b[0m\u001b[1;33m\u001b[0m\u001b[0m\n",
      "\u001b[1;31mNameError\u001b[0m: name 'importances' is not defined"
     ]
    },
    {
     "data": {
      "image/png": "[encoded data removed]",
      "text/plain": [
       "<matplotlib.figure.Figure at 0x86829b0>"
      ]
     },
     "metadata": {},
     "output_type": "display_data"
    }
   ],
   "source": [
    "%matplotlib inline\n",
    "plt.title(\"Feature importances\")\n",
    "plt.bar(range(1,len(t)), importances[indices][1:len(t)],\n",
    "       color=\"r\", yerr=std[indices[1:len(t)]], align=\"center\")\n",
    "plt.xticks(range(1,len(t)), df[vraisIndices[1:len(t)]].columns)"
   ]
  },
  {
   "cell_type": "markdown",
   "metadata": {},
   "source": [
    "# Random forest sur toutes les variables"
   ]
  },
  {
   "cell_type": "code",
   "execution_count": 13,
   "metadata": {
    "collapsed": false
   },
   "outputs": [],
   "source": [
    "import matplotlib.pyplot as plt\n",
    "from sklearn.ensemble import RandomForestClassifier\n",
    "\n",
    "forest = RandomForestClassifier(n_estimators=5,\n",
    "                              random_state=0)\n",
    "\n",
    "forest.fit(df_Normalized, y)\n",
    "importances = forest.feature_importances_\n",
    "#std = np.std([tree.feature_importances_ for tree in forest.estimators_],\n",
    " #            axis=0)\n",
    "indices = np.argsort(importances)[::-1]"
   ]
  },
  {
   "cell_type": "code",
   "execution_count": 30,
   "metadata": {
    "collapsed": false
   },
   "outputs": [
    {
     "name": "stdout",
     "output_type": "stream",
     "text": [
      "max_depth 1 erreur 0.364263500848 0.364275090217\n",
      "max_depth 2 erreur 0.334659136964 0.335592369153\n",
      "max_depth 3 erreur 0.325939890054 0.327224218455\n",
      "max_depth 4 erreur 0.322694363082 0.324327197313\n",
      "max_depth 5 erreur 0.320027861153 0.322014676162\n",
      "max_depth 6 erreur 0.316163493445 0.318986503958\n",
      "max_depth 7 erreur 0.312701809288 0.317329280599\n",
      "max_depth 8 erreur 0.309381740803 0.316329746753\n",
      "max_depth 9 erreur 0.304868843683 0.314909588981\n"
     ]
    },
    {
     "data": {
      "text/plain": [
       "<matplotlib.legend.Legend at 0x5901860>"
      ]
     },
     "execution_count": 30,
     "metadata": {},
     "output_type": "execute_result"
    },
    {
     "data": {
      "image/png": "[encoded data removed]",
      "text/plain": [
       "<matplotlib.figure.Figure at 0x5dfdbe0>"
      ]
     },
     "metadata": {},
     "output_type": "display_data"
    }
   ],
   "source": [
    "from sklearn.tree import DecisionTreeRegressor\n",
    "from sklearn.metrics import mean_squared_error\n",
    "from sklearn.cross_validation import train_test_split\n",
    "\n",
    "a_train, a_test, b_train, b_test = train_test_split(accroissements, y, test_size=0.33)\n",
    "\n",
    "curves = []\n",
    "for max_depth in range(1,10) :\n",
    "    clf = DecisionTreeRegressor(min_samples_leaf=10, max_depth=max_depth)\n",
    "    clf = clf.fit(a_train, b_train)\n",
    "    erra = mean_squared_error( clf.predict(a_train), b_train)**0.5\n",
    "    errb = mean_squared_error( clf.predict(a_test), b_test)**0.5\n",
    "    print(\"max_depth\",max_depth, \"erreur\",erra,errb)\n",
    "    curves.append((max_depth, erra,errb, clf) )\n",
    "plt.plot ( [c[0] for c in curves], [c[1] for c in curves], label=\"train\")\n",
    "plt.plot ( [c[0] for c in curves], [c[2] for c in curves], label=\"test\")\n",
    "plt.legend()\n"
   ]
  },
  {
   "cell_type": "code",
   "execution_count": 53,
   "metadata": {
    "collapsed": false
   },
   "outputs": [
    {
     "data": {
      "image/png": "[encoded data removed]",
      "text/plain": [
       "<IPython.core.display.Image object>"
      ]
     },
     "execution_count": 53,
     "metadata": {},
     "output_type": "execute_result"
    }
   ],
   "source": [
    "clf = DecisionTreeRegressor(min_samples_leaf=10, max_depth=2)\n",
    "clf = clf.fit(a_train, b_train)\n",
    "\n",
    "from sklearn.tree import export_graphviz\n",
    "export_graphviz(clf, out_file=\"arbrec.dot\")\n",
    "# on remplace X[i] par les noms des variables\n",
    "with open(\"arbrec.dot\",\"r\") as f: text = f.read()\n",
    "\n",
    "with open(\"arbrec.dot\",\"w\") as f: f.write(text)\n",
    "cwd = os.getcwd()\n",
    "os.system (\"\\\"D:\\\\PyEnsae\\\\tools\\\\Graphviz\\\\bin\\\\dot.exe\\\" -Tpng {0}\\\\arbrec.dot -o {0}\\\\arbrec.png\".format(cwd))\n",
    "from IPython.core.display import Image\n",
    "Image(\"arbrec.png\")\n",
    "\n",
    "\n",
    "\n",
    "\n",
    "\n",
    "\n"
   ]
  },
  {
   "cell_type": "code",
   "execution_count": 45,
   "metadata": {
    "collapsed": false
   },
   "outputs": [
    {
     "data": {
      "text/plain": [
       "array([ 0.00591133,  0.00784962,  0.09220232, ...,  0.25556734,\n",
       "        0.        ,  0.00784962])"
      ]
     },
     "execution_count": 45,
     "metadata": {},
     "output_type": "execute_result"
    }
   ],
   "source": [
    "predicted = clf.predict(a_test)\n",
    "expected = b_test"
   ]
  },
  {
   "cell_type": "code",
   "execution_count": 14,
   "metadata": {
    "collapsed": false
   },
   "outputs": [
    {
     "data": {
      "image/png": "[encoded data removed]",
      "text/plain": [
       "<matplotlib.figure.Figure at 0x8dc1780>"
      ]
     },
     "metadata": {},
     "output_type": "display_data"
    }
   ],
   "source": [
    "%matplotlib inline\n",
    "X = df_Normalized\n",
    "\n",
    "#for f in range(X.shape[1]):\n",
    "#    print(\"%d. feature %d (%f)\" % (f + 1, indices[f], importances[indices[f]]))\n",
    "\n",
    "# Plot the feature importances of the forest\n",
    "plt.figure(num=None, figsize=(18, 6), dpi=80, facecolor='w', edgecolor='k')\n",
    "plt.title(\"Feature importances\")\n",
    "plt.bar(range(X.shape[1]), importances[indices],\n",
    "       color=\"r\", align=\"center\")\n",
    "plt.xticks(range(X.shape[1]), indices)\n",
    "plt.xlim([-1, X.shape[1]])\n",
    "plt.show()"
   ]
  },
  {
   "cell_type": "code",
   "execution_count": 15,
   "metadata": {
    "collapsed": false
   },
   "outputs": [
    {
     "data": {
      "text/plain": [
       "<matplotlib.text.Text at 0xbeb278>"
      ]
     },
     "execution_count": 15,
     "metadata": {},
     "output_type": "execute_result"
    },
    {
     "data": {
      "image/png": "[encoded data removed]",
      "text/plain": [
       "<matplotlib.figure.Figure at 0x8eedd8>"
      ]
     },
     "metadata": {},
     "output_type": "display_data"
    }
   ],
   "source": [
    "%matplotlib inline\n",
    "plt.bar(range(X.shape[1]), importances[indices])\n",
    "plt.title(\"Importance des variables \")"
   ]
  },
  {
   "cell_type": "code",
   "execution_count": 16,
   "metadata": {
    "collapsed": false
   },
   "outputs": [
    {
     "data": {
      "text/plain": [
       "<matplotlib.text.Text at 0xacd588>"
      ]
     },
     "execution_count": 16,
     "metadata": {},
     "output_type": "execute_result"
    },
    {
     "data": {
      "image/png": "[encoded data removed]",
      "text/plain": [
       "<matplotlib.figure.Figure at 0xc049b0>"
      ]
     },
     "metadata": {},
     "output_type": "display_data"
    }
   ],
   "source": [
    "%matplotlib inline\n",
    "plt.bar(range(1,10), importances[indices][1:10])\n",
    "plt.title(\"Importance des variables \")"
   ]
  },
  {
   "cell_type": "code",
   "execution_count": 17,
   "metadata": {
    "collapsed": false
   },
   "outputs": [
    {
     "ename": "NameError",
     "evalue": "name 'std' is not defined",
     "output_type": "error",
     "traceback": [
      "\u001b[1;31m---------------------------------------------------------------------------\u001b[0m",
      "\u001b[1;31mNameError\u001b[0m                                 Traceback (most recent call last)",
      "\u001b[1;32m<ipython-input-17-cbad8ec8fe8a>\u001b[0m in \u001b[0;36m<module>\u001b[1;34m()\u001b[0m\n\u001b[0;32m      1\u001b[0m \u001b[0mplt\u001b[0m\u001b[1;33m.\u001b[0m\u001b[0mtitle\u001b[0m\u001b[1;33m(\u001b[0m\u001b[1;34m\"Feature importances\"\u001b[0m\u001b[1;33m)\u001b[0m\u001b[1;33m\u001b[0m\u001b[0m\n\u001b[0;32m      2\u001b[0m plt.bar(range(1,10), importances[indices][1:10],\n\u001b[1;32m----> 3\u001b[1;33m        color=\"r\", yerr=std[indices[1:10]], align=\"center\")\n\u001b[0m\u001b[0;32m      4\u001b[0m \u001b[0mplt\u001b[0m\u001b[1;33m.\u001b[0m\u001b[0mxticks\u001b[0m\u001b[1;33m(\u001b[0m\u001b[0mrange\u001b[0m\u001b[1;33m(\u001b[0m\u001b[1;36m1\u001b[0m\u001b[1;33m,\u001b[0m\u001b[1;36m10\u001b[0m\u001b[1;33m)\u001b[0m\u001b[1;33m,\u001b[0m \u001b[0mdf\u001b[0m\u001b[1;33m[\u001b[0m\u001b[0mindices\u001b[0m\u001b[1;33m[\u001b[0m\u001b[1;36m1\u001b[0m\u001b[1;33m:\u001b[0m\u001b[1;36m10\u001b[0m\u001b[1;33m]\u001b[0m\u001b[1;33m]\u001b[0m\u001b[1;33m.\u001b[0m\u001b[0mcolumns\u001b[0m\u001b[1;33m)\u001b[0m\u001b[1;33m\u001b[0m\u001b[0m\n",
      "\u001b[1;31mNameError\u001b[0m: name 'std' is not defined"
     ]
    },
    {
     "data": {
      "image/png": "[encoded data removed]",
      "text/plain": [
       "<matplotlib.figure.Figure at 0xacbe80>"
      ]
     },
     "metadata": {},
     "output_type": "display_data"
    }
   ],
   "source": [
    "plt.title(\"Feature importances\")\n",
    "plt.bar(range(1,10), importances[indices][1:10],\n",
    "       color=\"r\", yerr=std[indices[1:10]], align=\"center\")\n",
    "plt.xticks(range(1,10), df[indices[1:10]].columns)"
   ]
  },
  {
   "cell_type": "markdown",
   "metadata": {},
   "source": [
    "## Selection de features avec SelectModel"
   ]
  },
  {
   "cell_type": "code",
   "execution_count": 18,
   "metadata": {
    "collapsed": false
   },
   "outputs": [
    {
     "ename": "NameError",
     "evalue": "name 'df' is not defined",
     "output_type": "error",
     "traceback": [
      "\u001b[1;31m---------------------------------------------------------------------------\u001b[0m",
      "\u001b[1;31mNameError\u001b[0m                                 Traceback (most recent call last)",
      "\u001b[1;32m<ipython-input-18-50ae3ea8a8d3>\u001b[0m in \u001b[0;36m<module>\u001b[1;34m()\u001b[0m\n\u001b[0;32m      2\u001b[0m \u001b[1;31m# threshold chosen is the mean (by default) (equivalent to importances[importances>np.mean(importances)])\u001b[0m\u001b[1;33m\u001b[0m\u001b[1;33m\u001b[0m\u001b[0m\n\u001b[0;32m      3\u001b[0m \u001b[0mmodel\u001b[0m \u001b[1;33m=\u001b[0m \u001b[0mSelectFromModel\u001b[0m\u001b[1;33m(\u001b[0m\u001b[0mforest\u001b[0m\u001b[1;33m,\u001b[0m \u001b[0mprefit\u001b[0m\u001b[1;33m=\u001b[0m\u001b[1;32mTrue\u001b[0m\u001b[1;33m)\u001b[0m\u001b[1;33m\u001b[0m\u001b[0m\n\u001b[1;32m----> 4\u001b[1;33m \u001b[0mX_new\u001b[0m \u001b[1;33m=\u001b[0m \u001b[0mmodel\u001b[0m\u001b[1;33m.\u001b[0m\u001b[0mtransform\u001b[0m\u001b[1;33m(\u001b[0m\u001b[0mdf\u001b[0m\u001b[1;33m)\u001b[0m\u001b[1;33m\u001b[0m\u001b[0m\n\u001b[0m",
      "\u001b[1;31mNameError\u001b[0m: name 'df' is not defined"
     ]
    }
   ],
   "source": [
    "from sklearn.feature_selection import SelectFromModel\n",
    "# threshold chosen is the mean (by default) (equivalent to importances[importances>np.mean(importances)])\n",
    "model = SelectFromModel(forest, prefit=True)\n",
    "X_new = model.transform(df)"
   ]
  },
  {
   "cell_type": "code",
   "execution_count": 19,
   "metadata": {
    "collapsed": false
   },
   "outputs": [
    {
     "ename": "NameError",
     "evalue": "name 'X_new' is not defined",
     "output_type": "error",
     "traceback": [
      "\u001b[1;31m---------------------------------------------------------------------------\u001b[0m",
      "\u001b[1;31mNameError\u001b[0m                                 Traceback (most recent call last)",
      "\u001b[1;32m<ipython-input-19-7817e52dbaf7>\u001b[0m in \u001b[0;36m<module>\u001b[1;34m()\u001b[0m\n\u001b[1;32m----> 1\u001b[1;33m \u001b[0mtest\u001b[0m \u001b[1;33m=\u001b[0m \u001b[0mpandas\u001b[0m\u001b[1;33m.\u001b[0m\u001b[0mDataFrame\u001b[0m\u001b[1;33m(\u001b[0m\u001b[0mX_new\u001b[0m\u001b[1;33m)\u001b[0m\u001b[1;33m\u001b[0m\u001b[0m\n\u001b[0m\u001b[0;32m      2\u001b[0m \u001b[0mselectedVariables\u001b[0m \u001b[1;33m=\u001b[0m \u001b[0mdf\u001b[0m\u001b[1;33m.\u001b[0m\u001b[0mcolumns\u001b[0m\u001b[1;33m[\u001b[0m\u001b[0mmodel\u001b[0m\u001b[1;33m.\u001b[0m\u001b[0mget_support\u001b[0m\u001b[1;33m(\u001b[0m\u001b[0mrange\u001b[0m\u001b[1;33m(\u001b[0m\u001b[1;36m0\u001b[0m\u001b[1;33m,\u001b[0m\u001b[1;36m76\u001b[0m\u001b[1;33m)\u001b[0m\u001b[1;33m)\u001b[0m\u001b[1;33m]\u001b[0m\u001b[1;33m\u001b[0m\u001b[0m\n\u001b[0;32m      3\u001b[0m \u001b[1;33m\u001b[0m\u001b[0m\n\u001b[0;32m      4\u001b[0m \u001b[0mprint\u001b[0m\u001b[1;33m(\u001b[0m\u001b[1;34m\"Les variables sélectionnées pour l'étude :\"\u001b[0m\u001b[1;33m,\u001b[0m\u001b[0mselectedVariables\u001b[0m\u001b[1;33m.\u001b[0m\u001b[0mtolist\u001b[0m\u001b[1;33m(\u001b[0m\u001b[1;33m)\u001b[0m\u001b[1;33m)\u001b[0m\u001b[1;33m\u001b[0m\u001b[0m\n",
      "\u001b[1;31mNameError\u001b[0m: name 'X_new' is not defined"
     ]
    }
   ],
   "source": [
    "test = pandas.DataFrame(X_new)\n",
    "selectedVariables = df.columns[model.get_support(range(0,76))]\n",
    "\n",
    "print(\"Les variables sélectionnées pour l'étude :\",selectedVariables.tolist())\n"
   ]
  },
  {
   "cell_type": "markdown",
   "metadata": {},
   "source": []
  },
  {
   "cell_type": "code",
   "execution_count": 20,
   "metadata": {
    "collapsed": false
   },
   "outputs": [],
   "source": []
  },
  {
   "cell_type": "code",
   "execution_count": 21,
   "metadata": {
    "collapsed": true
   },
   "outputs": [],
   "source": []
  },
  {
   "cell_type": "markdown",
   "metadata": {},
   "source": [
    "Classifier avec toutes les variables d'accroissements : "
   ]
  },
  {
   "cell_type": "code",
   "execution_count": 22,
   "metadata": {
    "collapsed": false
   },
   "outputs": [
    {
     "ename": "NameError",
     "evalue": "name 'accroissements' is not defined",
     "output_type": "error",
     "traceback": [
      "\u001b[1;31m---------------------------------------------------------------------------\u001b[0m",
      "\u001b[1;31mNameError\u001b[0m                                 Traceback (most recent call last)",
      "\u001b[1;32m<ipython-input-22-0688e4528e51>\u001b[0m in \u001b[0;36m<module>\u001b[1;34m()\u001b[0m\n\u001b[0;32m      1\u001b[0m \u001b[1;32mimport\u001b[0m \u001b[0mtimeit\u001b[0m\u001b[1;33m\u001b[0m\u001b[0m\n\u001b[0;32m      2\u001b[0m \u001b[0mstart_time\u001b[0m \u001b[1;33m=\u001b[0m \u001b[0mtimeit\u001b[0m\u001b[1;33m.\u001b[0m\u001b[0mdefault_timer\u001b[0m\u001b[1;33m(\u001b[0m\u001b[1;33m)\u001b[0m\u001b[1;33m\u001b[0m\u001b[0m\n\u001b[1;32m----> 3\u001b[1;33m \u001b[0mknnClassifier\u001b[0m\u001b[1;33m(\u001b[0m\u001b[0maccroissements\u001b[0m\u001b[1;33m,\u001b[0m\u001b[0my\u001b[0m\u001b[1;33m,\u001b[0m\u001b[1;33m-\u001b[0m\u001b[1;36m1\u001b[0m\u001b[1;33m)\u001b[0m\u001b[1;33m\u001b[0m\u001b[0m\n\u001b[0m\u001b[0;32m      4\u001b[0m \u001b[0melapsed\u001b[0m \u001b[1;33m=\u001b[0m \u001b[0mtimeit\u001b[0m\u001b[1;33m.\u001b[0m\u001b[0mdefault_timer\u001b[0m\u001b[1;33m(\u001b[0m\u001b[1;33m)\u001b[0m \u001b[1;33m-\u001b[0m \u001b[0mstart_time\u001b[0m\u001b[1;33m\u001b[0m\u001b[0m\n\u001b[0;32m      5\u001b[0m \u001b[0mprint\u001b[0m\u001b[1;33m(\u001b[0m\u001b[0melapsed\u001b[0m\u001b[1;33m,\u001b[0m\u001b[1;34m\"seconds\"\u001b[0m\u001b[1;33m)\u001b[0m\u001b[1;33m\u001b[0m\u001b[0m\n",
      "\u001b[1;31mNameError\u001b[0m: name 'accroissements' is not defined"
     ]
    }
   ],
   "source": []
  },
  {
   "cell_type": "markdown",
   "metadata": {},
   "source": [
    "Classifier qu'avec  les variables d'accroissement d'auteurs :"
   ]
  },
  {
   "cell_type": "code",
   "execution_count": null,
   "metadata": {
    "collapsed": false
   },
   "outputs": [],
   "source": [
    "knnClassifier(accroissements.iloc[:,np.divide(indices_variables_auteurs,7)],y,-1)"
   ]
  },
  {
   "cell_type": "markdown",
   "metadata": {},
   "source": [
    "Classifier qu'avec les variables liées aux discussions : "
   ]
  },
  {
   "cell_type": "code",
   "execution_count": null,
   "metadata": {
    "collapsed": false
   },
   "outputs": [],
   "source": [
    "indices_contributions_variables = np.setdiff1d(np.arange(0,11),np.divide(indices_variables_auteurs,7))"
   ]
  },
  {
   "cell_type": "code",
   "execution_count": null,
   "metadata": {
    "collapsed": false
   },
   "outputs": [],
   "source": [
    "knnClassifier(accroissements.iloc[:,indices_contributions_variables],y,-1)"
   ]
  },
  {
   "cell_type": "code",
   "execution_count": 13,
   "metadata": {
    "collapsed": false
   },
   "outputs": [
    {
     "name": "stdout",
     "output_type": "stream",
     "text": [
      "K choisi :  9  pour le score :  0.935120498625\n"
     ]
    }
   ],
   "source": [
    "knnClassifier(df_Normalized.iloc[:,indices[43:46]],y,-1)"
   ]
  },
  {
   "cell_type": "markdown",
   "metadata": {},
   "source": [
    "# 4. Méthode 2 : SVM "
   ]
  },
  {
   "cell_type": "markdown",
   "metadata": {},
   "source": [
    "Nous utilisons ici un modèle SVM linéaire pour des raisons computationnelles.\n",
    "Le temps de calcul d'un modèle SVM polynomial , de degré 3 par exemple, prend énormément de temps à \"fitter\" pour notre jeu de données."
   ]
  },
  {
   "cell_type": "code",
   "execution_count": 23,
   "metadata": {
    "collapsed": false
   },
   "outputs": [],
   "source": [
    "from sklearn import svm\n",
    "from sklearn.cross_validation import cross_val_score\n",
    "\n",
    "def linearSVM(data,y):\n",
    "    linear_svc = svm.LinearSVC(C=1,random_state=1234)\n",
    "\n",
    "    scores = cross_val_score(linear_svc, data, y= y, cv=5,n_jobs=-1)\n",
    "    print(scores.mean())"
   ]
  },
  {
   "cell_type": "code",
   "execution_count": 24,
   "metadata": {
    "collapsed": false
   },
   "outputs": [
    {
     "ename": "NameError",
     "evalue": "name 'accroissements' is not defined",
     "output_type": "error",
     "traceback": [
      "\u001b[1;31m---------------------------------------------------------------------------\u001b[0m",
      "\u001b[1;31mNameError\u001b[0m                                 Traceback (most recent call last)",
      "\u001b[1;32m<ipython-input-24-c86b231ee86a>\u001b[0m in \u001b[0;36m<module>\u001b[1;34m()\u001b[0m\n\u001b[1;32m----> 1\u001b[1;33m \u001b[0mlinearSVM\u001b[0m\u001b[1;33m(\u001b[0m\u001b[0maccroissements\u001b[0m\u001b[1;33m,\u001b[0m\u001b[0my\u001b[0m\u001b[1;33m)\u001b[0m\u001b[1;33m\u001b[0m\u001b[0m\n\u001b[0m",
      "\u001b[1;31mNameError\u001b[0m: name 'accroissements' is not defined"
     ]
    }
   ],
   "source": [
    "linearSVM(accroissements,y)"
   ]
  },
  {
   "cell_type": "code",
   "execution_count": null,
   "metadata": {
    "collapsed": false
   },
   "outputs": [],
   "source": [
    "linearSVM(accroissements.iloc[:,indices_contributions_variables], y)"
   ]
  },
  {
   "cell_type": "code",
   "execution_count": null,
   "metadata": {
    "collapsed": false
   },
   "outputs": [],
   "source": [
    "linearSVM(accroissements.iloc[:,np.divide(indices_variables_auteurs,7)],y)"
   ]
  }
 ],
 "metadata": {
  "kernelspec": {
   "display_name": "Python 3",
   "language": "python",
   "name": "python3"
  },
  "language_info": {
   "codemirror_mode": {
    "name": "ipython",
    "version": 3
   },
   "file_extension": ".py",
   "mimetype": "text/x-python",
   "name": "python",
   "nbconvert_exporter": "python",
   "pygments_lexer": "ipython3",
   "version": "3.4.3"
  }
 },
 "nbformat": 4,
 "nbformat_minor": 0
}
