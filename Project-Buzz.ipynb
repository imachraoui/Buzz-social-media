{
 "cells": [
  {
   "cell_type": "code",
   "execution_count": 1,
   "metadata": {
    "collapsed": false
   },
   "outputs": [],
   "source": [
    "import pandas\n",
    "import numpy as np\n",
    "import matplotlib.pyplot as plt\n",
    "\n",
    "pathToDataset = \"../../Twitter-Absolute-Sigma-500.csv\"\n",
    "data = pandas.read_csv(pathToDataset, sep=\",\",encoding=\"utf8\")\n"
   ]
  },
  {
   "cell_type": "markdown",
   "metadata": {},
   "source": [
    "Retirer des données à étudier la dernière colonne correspondant au résultat (buzz ou pas buzz)"
   ]
  },
  {
   "cell_type": "code",
   "execution_count": 2,
   "metadata": {
    "collapsed": false
   },
   "outputs": [
    {
     "name": "stdout",
     "output_type": "stream",
     "text": [
      "(140707, 77)\n"
     ]
    },
    {
     "data": {
      "text/html": [
       "<div>\n",
       "<table border=\"1\" class=\"dataframe\">\n",
       "  <thead>\n",
       "    <tr style=\"text-align: right;\">\n",
       "      <th></th>\n",
       "      <th>NCD_0</th>\n",
       "      <th>NCD_1</th>\n",
       "      <th>NCD_2</th>\n",
       "      <th>NCD_3</th>\n",
       "      <th>NCD_4</th>\n",
       "      <th>NCD_5</th>\n",
       "      <th>NCD_6</th>\n",
       "      <th>AI_0</th>\n",
       "      <th>AI_1</th>\n",
       "      <th>AI_2</th>\n",
       "      <th>...</th>\n",
       "      <th>ADL_4</th>\n",
       "      <th>ADL_5</th>\n",
       "      <th>ADL_6</th>\n",
       "      <th>NAD_0</th>\n",
       "      <th>NAD_1</th>\n",
       "      <th>NAD_2</th>\n",
       "      <th>NAD_3</th>\n",
       "      <th>NAD_4</th>\n",
       "      <th>NAD_5</th>\n",
       "      <th>NAD_6</th>\n",
       "    </tr>\n",
       "  </thead>\n",
       "  <tbody>\n",
       "    <tr>\n",
       "      <th>0</th>\n",
       "      <td>889</td>\n",
       "      <td>939</td>\n",
       "      <td>960</td>\n",
       "      <td>805</td>\n",
       "      <td>805</td>\n",
       "      <td>1143</td>\n",
       "      <td>1121</td>\n",
       "      <td>549</td>\n",
       "      <td>613</td>\n",
       "      <td>587</td>\n",
       "      <td>...</td>\n",
       "      <td>1</td>\n",
       "      <td>1</td>\n",
       "      <td>1</td>\n",
       "      <td>889</td>\n",
       "      <td>939</td>\n",
       "      <td>960</td>\n",
       "      <td>805</td>\n",
       "      <td>805</td>\n",
       "      <td>1143</td>\n",
       "      <td>1121</td>\n",
       "    </tr>\n",
       "    <tr>\n",
       "      <th>1</th>\n",
       "      <td>542</td>\n",
       "      <td>473</td>\n",
       "      <td>504</td>\n",
       "      <td>626</td>\n",
       "      <td>647</td>\n",
       "      <td>795</td>\n",
       "      <td>832</td>\n",
       "      <td>366</td>\n",
       "      <td>288</td>\n",
       "      <td>318</td>\n",
       "      <td>...</td>\n",
       "      <td>1</td>\n",
       "      <td>1</td>\n",
       "      <td>1</td>\n",
       "      <td>542</td>\n",
       "      <td>473</td>\n",
       "      <td>504</td>\n",
       "      <td>626</td>\n",
       "      <td>647</td>\n",
       "      <td>795</td>\n",
       "      <td>832</td>\n",
       "    </tr>\n",
       "    <tr>\n",
       "      <th>2</th>\n",
       "      <td>92</td>\n",
       "      <td>99</td>\n",
       "      <td>196</td>\n",
       "      <td>100</td>\n",
       "      <td>184</td>\n",
       "      <td>79</td>\n",
       "      <td>162</td>\n",
       "      <td>66</td>\n",
       "      <td>59</td>\n",
       "      <td>118</td>\n",
       "      <td>...</td>\n",
       "      <td>1</td>\n",
       "      <td>1</td>\n",
       "      <td>1</td>\n",
       "      <td>92</td>\n",
       "      <td>99</td>\n",
       "      <td>196</td>\n",
       "      <td>100</td>\n",
       "      <td>184</td>\n",
       "      <td>79</td>\n",
       "      <td>162</td>\n",
       "    </tr>\n",
       "    <tr>\n",
       "      <th>3</th>\n",
       "      <td>90</td>\n",
       "      <td>87</td>\n",
       "      <td>92</td>\n",
       "      <td>344</td>\n",
       "      <td>184</td>\n",
       "      <td>848</td>\n",
       "      <td>184</td>\n",
       "      <td>83</td>\n",
       "      <td>78</td>\n",
       "      <td>76</td>\n",
       "      <td>...</td>\n",
       "      <td>1</td>\n",
       "      <td>1</td>\n",
       "      <td>1</td>\n",
       "      <td>90</td>\n",
       "      <td>87</td>\n",
       "      <td>92</td>\n",
       "      <td>344</td>\n",
       "      <td>184</td>\n",
       "      <td>848</td>\n",
       "      <td>184</td>\n",
       "    </tr>\n",
       "    <tr>\n",
       "      <th>4</th>\n",
       "      <td>169</td>\n",
       "      <td>98</td>\n",
       "      <td>101</td>\n",
       "      <td>90</td>\n",
       "      <td>96</td>\n",
       "      <td>95</td>\n",
       "      <td>185</td>\n",
       "      <td>141</td>\n",
       "      <td>68</td>\n",
       "      <td>85</td>\n",
       "      <td>...</td>\n",
       "      <td>1</td>\n",
       "      <td>1</td>\n",
       "      <td>1</td>\n",
       "      <td>169</td>\n",
       "      <td>98</td>\n",
       "      <td>101</td>\n",
       "      <td>90</td>\n",
       "      <td>96</td>\n",
       "      <td>95</td>\n",
       "      <td>185</td>\n",
       "    </tr>\n",
       "  </tbody>\n",
       "</table>\n",
       "<p>5 rows × 77 columns</p>\n",
       "</div>"
      ],
      "text/plain": [
       "   NCD_0  NCD_1  NCD_2  NCD_3  NCD_4  NCD_5  NCD_6  AI_0  AI_1  AI_2  ...    \\\n",
       "0    889    939    960    805    805   1143   1121   549   613   587  ...     \n",
       "1    542    473    504    626    647    795    832   366   288   318  ...     \n",
       "2     92     99    196    100    184     79    162    66    59   118  ...     \n",
       "3     90     87     92    344    184    848    184    83    78    76  ...     \n",
       "4    169     98    101     90     96     95    185   141    68    85  ...     \n",
       "\n",
       "   ADL_4  ADL_5  ADL_6  NAD_0  NAD_1  NAD_2  NAD_3  NAD_4  NAD_5  NAD_6  \n",
       "0      1      1      1    889    939    960    805    805   1143   1121  \n",
       "1      1      1      1    542    473    504    626    647    795    832  \n",
       "2      1      1      1     92     99    196    100    184     79    162  \n",
       "3      1      1      1     90     87     92    344    184    848    184  \n",
       "4      1      1      1    169     98    101     90     96     95    185  \n",
       "\n",
       "[5 rows x 77 columns]"
      ]
     },
     "execution_count": 2,
     "metadata": {},
     "output_type": "execute_result"
    }
   ],
   "source": [
    "df_nonNormalized = data.iloc[:, :77]\n",
    "print(df_nonNormalized.shape)\n",
    "y = data.iloc[:,77]\n",
    "df_nonNormalized.head()\n"
   ]
  },
  {
   "cell_type": "code",
   "execution_count": 9,
   "metadata": {
    "collapsed": true
   },
   "outputs": [],
   "source": [
    "column = df_nonNormalized\n",
    "column[column==0] = 1\n",
    "df_Normalized =(df_nonNormalized - df_nonNormalized.mean()) / column.std()"
   ]
  },
  {
   "cell_type": "markdown",
   "metadata": {},
   "source": [
    "# Quelques exemples "
   ]
  },
  {
   "cell_type": "code",
   "execution_count": 114,
   "metadata": {
    "collapsed": false
   },
   "outputs": [],
   "source": [
    "import matplotlib.pyplot as plt\n",
    "%matplotlib inline\n",
    "def plotBuzz(data,n,withbuzz,withoutbuzz):\n",
    "    notbuzzindex = np.where(y==0)[0][0:n]\n",
    "    buzzindex = np.where(y==1)[0][0:n]\n",
    "\n",
    "    nbColonnes = data.shape[1]\n",
    "    buzz = data.iloc[buzzindex,:]\n",
    "    notbuzz = data.iloc[notbuzzindex,:]\n",
    "    \n",
    "    nbVariables = int(round(nbColonnes / 7))\n",
    "    x= np.tile(range(0,7),nbVariables)\n",
    "    if withbuzz == 1 :\n",
    "            plt.plot(x,buzz.transpose(),'-o', label = 'buzz')\n",
    "    if  withoutbuzz == 1 :\n",
    "           plt.plot(x,notbuzz.transpose(),'-^', label = 'no buzz')\n",
    "    plt.legend()"
   ]
  },
  {
   "cell_type": "code",
   "execution_count": 124,
   "metadata": {
    "collapsed": false
   },
   "outputs": [
    {
     "data": {
      "image/png": "[encoded data removed]",
      "text/plain": [
       "<matplotlib.figure.Figure at 0xa68cf98>"
      ]
     },
     "metadata": {},
     "output_type": "display_data"
    }
   ],
   "source": [
    "plotBuzz(df_Normalized.iloc[:,0:7],4,1,1)"
   ]
  },
  {
   "cell_type": "markdown",
   "metadata": {
    "collapsed": true
   },
   "source": [
    "# Réduction des variables "
   ]
  },
  {
   "cell_type": "code",
   "execution_count": 6,
   "metadata": {
    "collapsed": true
   },
   "outputs": [],
   "source": [
    "indices_variables_auteurs = [7,49,56]"
   ]
  },
  {
   "cell_type": "markdown",
   "metadata": {},
   "source": [
    "Ajout de nouvelles variables (colonnes) de l'accroissement entre t=0 et t=6 pour chacun des types des variables."
   ]
  },
  {
   "cell_type": "code",
   "execution_count": 7,
   "metadata": {
    "collapsed": true
   },
   "outputs": [],
   "source": [
    "t = []\n",
    "for i in range(0,76) : \n",
    "    ind = i %7\n",
    "    if(ind == 0):\n",
    "        t.append(i)\n",
    "\n",
    "t = np.asarray(t)"
   ]
  },
  {
   "cell_type": "code",
   "execution_count": 35,
   "metadata": {
    "collapsed": false
   },
   "outputs": [
    {
     "name": "stderr",
     "output_type": "stream",
     "text": [
      "c:\\users\\wymeka\\documents\\python\\python\\lib\\site-packages\\ipykernel\\__main__.py:7: SettingWithCopyWarning: \n",
      "A value is trying to be set on a copy of a slice from a DataFrame\n",
      "\n",
      "See the caveats in the documentation: http://pandas.pydata.org/pandas-docs/stable/indexing.html#indexing-view-versus-copy\n"
     ]
    }
   ],
   "source": [
    "accroissements = pandas.DataFrame({})\n",
    "for i in t :\n",
    "    maxes = df_nonNormalized.iloc[:,i:i+7].max(1)\n",
    "#    maxes = df_nonNormalized.iloc[:,i+1:i+2].max(1)\n",
    "    column = df_nonNormalized.iloc[:,i]\n",
    "    # Pour les variables qui commencent a 0, eviter de diviser par 0\n",
    "    column[column==0] = 1\n",
    "    accroissements[i] = (maxes - df_nonNormalized.iloc[:,i])/column\n",
    "accroissements.columns = df_nonNormalized.iloc[:,t].columns + \"_increase\"\n",
    "#df_nonNormalized = pandas.concat([df_nonNormalized,accroissements],axis =1)"
   ]
  },
  {
   "cell_type": "markdown",
   "metadata": {},
   "source": [
    "# Méthode 1 : K-NN neighbours classifier"
   ]
  },
  {
   "cell_type": "markdown",
   "metadata": {},
   "source": [
    "## Cross-validation testing (using 5 folds)"
   ]
  },
  {
   "cell_type": "code",
   "execution_count": 44,
   "metadata": {
    "collapsed": false
   },
   "outputs": [],
   "source": [
    "from sklearn.cross_validation import KFold\n",
    "from sklearn import neighbors\n",
    "from sklearn.cross_validation import cross_val_score\n",
    "from sklearn.cross_validation import cross_val_predict\n",
    "from sklearn.metrics import mean_squared_error\n",
    "\n",
    "def knnClassifier(data,y,n_jobs):\n",
    "    scores = np.zeros((10,5))\n",
    "    for n_neighbors in range(1,11):\n",
    "        clf = neighbors.KNeighborsClassifier(n_neighbors, weights=\"uniform\",metric=\"manhattan\",p=2,n_jobs=n_jobs)\n",
    "#        scores[n_neighbors - 1] = cross_val_score(clf, data, y= y, cv=5,scoring=\"f1\")\n",
    "        y_predict = cross_val_predict(clf, data, y= y, cv=5)\n",
    "        scores[n_neighbors - 1] = mean_squared_error( y_predict, y)**0.5\n",
    "    mean_scores = scores.mean(1)\n",
    "    k = mean_scores.argmax() +1\n",
    "    print(\"K choisi : \",k,\" pour le score : \", mean_scores[k])"
   ]
  },
  {
   "cell_type": "code",
   "execution_count": 9,
   "metadata": {
    "collapsed": false
   },
   "outputs": [
    {
     "data": {
      "text/plain": [
       "0.43556837445258595"
      ]
     },
     "execution_count": 9,
     "metadata": {},
     "output_type": "execute_result"
    }
   ],
   "source": [
    "from sklearn.cross_validation import KFold\n",
    "from sklearn import neighbors\n",
    "from sklearn.cross_validation import train_test_split\n",
    "clf = neighbors.KNeighborsClassifier(9, weights=\"uniform\",metric=\"manhattan\",p=2,n_jobs=-1)\n",
    "X_train, X_test, y_train, y_test = train_test_split(accroissements, y, test_size=0.8)\n",
    "clf.fit(X_train,y_train)\n",
    "y_predict = clf.predict(X_test)\n",
    "mean_squared_error( y_predict, y_test)**0.5"
   ]
  },
  {
   "cell_type": "markdown",
   "metadata": {},
   "source": [
    "Classifier avec toutes les variables d'accroissements : "
   ]
  },
  {
   "cell_type": "code",
   "execution_count": 32,
   "metadata": {
    "collapsed": false
   },
   "outputs": [
    {
     "name": "stdout",
     "output_type": "stream",
     "text": [
      "K choisi :  9  pour le score :  0.807337239045\n",
      "112.93011853763073 seconds\n",
      "K choisi :  9  pour le score :  0.807337239045\n",
      "216.96844549432262 seconds\n"
     ]
    }
   ],
   "source": [
    "import timeit\n",
    "start_time = timeit.default_timer()\n",
    "knnClassifier(accroissements,y,-1)\n",
    "elapsed = timeit.default_timer() - start_time\n",
    "print(elapsed,\"seconds\")\n",
    "\n",
    "start_time = timeit.default_timer()\n",
    "knnClassifier(accroissements,y,1)\n",
    "elapsed = timeit.default_timer() - start_time\n",
    "print(elapsed,\"seconds\")"
   ]
  },
  {
   "cell_type": "markdown",
   "metadata": {},
   "source": [
    "Classifier qu'avec  les variables d'accroissement d'auteurs :"
   ]
  },
  {
   "cell_type": "code",
   "execution_count": 9,
   "metadata": {
    "collapsed": false
   },
   "outputs": [
    {
     "ename": "TypeError",
     "evalue": "knnClassifier() missing 1 required positional argument: 'n_jobs'",
     "output_type": "error",
     "traceback": [
      "\u001b[1;31m---------------------------------------------------------------------------\u001b[0m",
      "\u001b[1;31mTypeError\u001b[0m                                 Traceback (most recent call last)",
      "\u001b[1;32m<ipython-input-9-7af5e9f164a2>\u001b[0m in \u001b[0;36m<module>\u001b[1;34m()\u001b[0m\n\u001b[1;32m----> 1\u001b[1;33m \u001b[0mknnClassifier\u001b[0m\u001b[1;33m(\u001b[0m\u001b[0maccroissements\u001b[0m\u001b[1;33m.\u001b[0m\u001b[0miloc\u001b[0m\u001b[1;33m[\u001b[0m\u001b[1;33m:\u001b[0m\u001b[1;33m,\u001b[0m\u001b[0mnp\u001b[0m\u001b[1;33m.\u001b[0m\u001b[0mdivide\u001b[0m\u001b[1;33m(\u001b[0m\u001b[0mindices_variables_auteurs\u001b[0m\u001b[1;33m,\u001b[0m\u001b[1;36m7\u001b[0m\u001b[1;33m)\u001b[0m\u001b[1;33m]\u001b[0m\u001b[1;33m,\u001b[0m\u001b[0my\u001b[0m\u001b[1;33m)\u001b[0m\u001b[1;33m\u001b[0m\u001b[0m\n\u001b[0m",
      "\u001b[1;31mTypeError\u001b[0m: knnClassifier() missing 1 required positional argument: 'n_jobs'"
     ]
    }
   ],
   "source": [
    "knnClassifier(accroissements.iloc[:,np.divide(indices_variables_auteurs,7)],y,-1)"
   ]
  },
  {
   "cell_type": "markdown",
   "metadata": {},
   "source": [
    "Classifier qu'avec les variables liées aux discussions : "
   ]
  },
  {
   "cell_type": "code",
   "execution_count": 23,
   "metadata": {
    "collapsed": false
   },
   "outputs": [
    {
     "name": "stdout",
     "output_type": "stream",
     "text": [
      "K choisi :  0  pour le score :  0.484994108692\n"
     ]
    }
   ],
   "source": [
    "indices_contributions_variables = np.setdiff1d(np.arange(0,11),np.divide(indices_variables_auteurs,7))\n",
    "knnClassifier(accroissements.iloc[:,indices_contributions_variables],y,-1)"
   ]
  },
  {
   "cell_type": "markdown",
   "metadata": {},
   "source": [
    "# Méthode 2 : SVM "
   ]
  },
  {
   "cell_type": "code",
   "execution_count": null,
   "metadata": {
    "collapsed": true
   },
   "outputs": [],
   "source": []
  },
  {
   "cell_type": "markdown",
   "metadata": {},
   "source": [
    "# Random Forest pour sélection de variables \n",
    "On utilise le random forest sur toutes les variables à un seul instant (t=0) pour essayer de voir s'il y en a certaines qui se démarquent, en utilisant les importances de chacunes."
   ]
  },
  {
   "cell_type": "code",
   "execution_count": null,
   "metadata": {
    "collapsed": false
   },
   "outputs": [],
   "source": [
    "import matplotlib.pyplot as plt\n",
    "from sklearn.ensemble import RandomForestClassifier\n",
    "\n",
    "t = []\n",
    "for i in range(0,76) : \n",
    "    ind = i %7\n",
    "    if(ind == 0):\n",
    "        t.append(i)\n",
    "\n",
    "t = np.asarray(t)\n",
    "forest = RandomForestClassifier(n_estimators=5,\n",
    "                              random_state=0)\n",
    "\n",
    "forest.fit(df.iloc[:,t], y)\n",
    "importances = forest.feature_importances_\n",
    "std = np.std([tree.feature_importances_ for tree in forest.estimators_],\n",
    "             axis=0)\n",
    "indices = np.argsort(importances)[::-1]\n",
    "vraisIndices = t[indices]"
   ]
  },
  {
   "cell_type": "code",
   "execution_count": 4,
   "metadata": {
    "collapsed": false
   },
   "outputs": [
    {
     "data": {
      "text/plain": [
       "([<matplotlib.axis.XTick at 0x7ad080>,\n",
       "  <matplotlib.axis.XTick at 0x79c5c0>,\n",
       "  <matplotlib.axis.XTick at 0x79c9b0>,\n",
       "  <matplotlib.axis.XTick at 0x81ee10>,\n",
       "  <matplotlib.axis.XTick at 0x826860>,\n",
       "  <matplotlib.axis.XTick at 0x8282b0>,\n",
       "  <matplotlib.axis.XTick at 0x828cc0>,\n",
       "  <matplotlib.axis.XTick at 0x82d710>,\n",
       "  <matplotlib.axis.XTick at 0x832160>,\n",
       "  <matplotlib.axis.XTick at 0x832b70>],\n",
       " <a list of 10 Text xticklabel objects>)"
      ]
     },
     "execution_count": 4,
     "metadata": {},
     "output_type": "execute_result"
    },
    {
     "data": {
      "image/png": "[encoded data removed]",
      "text/plain": [
       "<matplotlib.figure.Figure at 0x936ecc0>"
      ]
     },
     "metadata": {},
     "output_type": "display_data"
    }
   ],
   "source": [
    "%matplotlib inline\n",
    "plt.title(\"Feature importances\")\n",
    "plt.bar(range(1,len(t)), importances[indices][1:len(t)],\n",
    "       color=\"r\", yerr=std[indices[1:len(t)]], align=\"center\")\n",
    "plt.xticks(range(1,len(t)), df[vraisIndices[1:len(t)]].columns)"
   ]
  },
  {
   "cell_type": "markdown",
   "metadata": {},
   "source": [
    "# Random forest sur toutes les variables"
   ]
  },
  {
   "cell_type": "code",
   "execution_count": 4,
   "metadata": {
    "collapsed": true
   },
   "outputs": [],
   "source": [
    "import matplotlib.pyplot as plt\n",
    "from sklearn.ensemble import RandomForestClassifier\n",
    "\n",
    "forest = RandomForestClassifier(n_estimators=5,\n",
    "                              random_state=0)\n",
    "\n",
    "forest.fit(df, y)\n",
    "importances = forest.feature_importances_\n",
    "#std = np.std([tree.feature_importances_ for tree in forest.estimators_],\n",
    " #            axis=0)\n",
    "indices = np.argsort(importances)[::-1]"
   ]
  },
  {
   "cell_type": "code",
   "execution_count": 16,
   "metadata": {
    "collapsed": false
   },
   "outputs": [
    {
     "data": {
      "image/png": "[encoded data removed]",
      "text/plain": [
       "<matplotlib.figure.Figure at 0x650bc88>"
      ]
     },
     "metadata": {},
     "output_type": "display_data"
    }
   ],
   "source": [
    "X = df\n",
    "\n",
    "#for f in range(X.shape[1]):\n",
    "#    print(\"%d. feature %d (%f)\" % (f + 1, indices[f], importances[indices[f]]))\n",
    "\n",
    "# Plot the feature importances of the forest\n",
    "plt.figure()\n",
    "plt.title(\"Feature importances\")\n",
    "plt.bar(range(X.shape[1]), importances[indices],\n",
    "       color=\"r\", yerr=std[indices], align=\"center\")\n",
    "plt.xticks(range(X.shape[1]), indices)\n",
    "plt.xlim([-1, X.shape[1]])\n",
    "plt.show()"
   ]
  },
  {
   "cell_type": "code",
   "execution_count": 15,
   "metadata": {
    "collapsed": false
   },
   "outputs": [
    {
     "data": {
      "text/plain": [
       "<matplotlib.text.Text at 0x277b2780>"
      ]
     },
     "execution_count": 15,
     "metadata": {},
     "output_type": "execute_result"
    },
    {
     "data": {
      "image/png": "[encoded data removed]",
      "text/plain": [
       "<matplotlib.figure.Figure at 0x280129e8>"
      ]
     },
     "metadata": {},
     "output_type": "display_data"
    }
   ],
   "source": [
    "%matplotlib inline\n",
    "plt.bar(range(X.shape[1]), importances[indices])\n",
    "plt.title(\"Importance des variables \")"
   ]
  },
  {
   "cell_type": "code",
   "execution_count": 4,
   "metadata": {
    "collapsed": false
   },
   "outputs": [
    {
     "data": {
      "text/plain": [
       "<matplotlib.text.Text at 0xe0dc88>"
      ]
     },
     "execution_count": 4,
     "metadata": {},
     "output_type": "execute_result"
    },
    {
     "data": {
      "image/png": "[encoded data removed]",
      "text/plain": [
       "<matplotlib.figure.Figure at 0x99af470>"
      ]
     },
     "metadata": {},
     "output_type": "display_data"
    }
   ],
   "source": [
    "%matplotlib inline\n",
    "plt.bar(range(1,10), importances[indices][1:10])\n",
    "plt.title(\"Importance des variables \")"
   ]
  },
  {
   "cell_type": "code",
   "execution_count": 14,
   "metadata": {
    "collapsed": false
   },
   "outputs": [
    {
     "data": {
      "text/plain": [
       "([<matplotlib.axis.XTick at 0x9cc3cf8>,\n",
       "  <matplotlib.axis.XTick at 0x9cc30f0>,\n",
       "  <matplotlib.axis.XTick at 0x9c76630>,\n",
       "  <matplotlib.axis.XTick at 0x9c20080>,\n",
       "  <matplotlib.axis.XTick at 0x9be50b8>,\n",
       "  <matplotlib.axis.XTick at 0x9be5c50>,\n",
       "  <matplotlib.axis.XTick at 0x9b9eb00>,\n",
       "  <matplotlib.axis.XTick at 0x5e70978>,\n",
       "  <matplotlib.axis.XTick at 0x9c4b0f0>],\n",
       " <a list of 9 Text xticklabel objects>)"
      ]
     },
     "execution_count": 14,
     "metadata": {},
     "output_type": "execute_result"
    },
    {
     "data": {
      "image/png": "[encoded data removed]",
      "text/plain": [
       "<matplotlib.figure.Figure at 0x9cebd68>"
      ]
     },
     "metadata": {},
     "output_type": "display_data"
    }
   ],
   "source": [
    "plt.title(\"Feature importances\")\n",
    "plt.bar(range(1,10), importances[indices][1:10],\n",
    "       color=\"r\", yerr=std[indices[1:10]], align=\"center\")\n",
    "plt.xticks(range(1,10), df[indices[1:10]].columns)"
   ]
  },
  {
   "cell_type": "code",
   "execution_count": 21,
   "metadata": {
    "collapsed": false
   },
   "outputs": [
    {
     "data": {
      "text/plain": [
       "0.67153481950719485"
      ]
     },
     "execution_count": 21,
     "metadata": {},
     "output_type": "execute_result"
    }
   ],
   "source": [
    "sum(importances[0:48])"
   ]
  },
  {
   "cell_type": "markdown",
   "metadata": {},
   "source": [
    "## Selection de features avec SelectModel"
   ]
  },
  {
   "cell_type": "code",
   "execution_count": 4,
   "metadata": {
    "collapsed": false
   },
   "outputs": [],
   "source": [
    "from sklearn.feature_selection import SelectFromModel\n",
    "# threshold chosen is the mean (by default) (equivalent to importances[importances>np.mean(importances)])\n",
    "model = SelectFromModel(forest, prefit=True)\n",
    "X_new = model.transform(df)"
   ]
  },
  {
   "cell_type": "code",
   "execution_count": 8,
   "metadata": {
    "collapsed": false
   },
   "outputs": [
    {
     "name": "stdout",
     "output_type": "stream",
     "text": [
      "Les variables sélectionnées pour l'étude : ['NCD_6', 'AI_6', 'AS(NA)_6', 'BL_6', 'NAC_0', 'NAC_6', 'AS(NAC)_6', 'AT_6', 'NA_0', 'NA_6', 'ADL_6']\n"
     ]
    }
   ],
   "source": [
    "test = pandas.DataFrame(X_new)\n",
    "selectedVariables = df.columns[model.get_support(range(0,76))]\n",
    "\n",
    "print(\"Les variables sélectionnées pour l'étude :\",selectedVariables.tolist())\n"
   ]
  }
 ],
 "metadata": {
  "kernelspec": {
   "display_name": "Python 3",
   "language": "python",
   "name": "python3"
  },
  "language_info": {
   "codemirror_mode": {
    "name": "ipython",
    "version": 3
   },
   "file_extension": ".py",
   "mimetype": "text/x-python",
   "name": "python",
   "nbconvert_exporter": "python",
   "pygments_lexer": "ipython3",
   "version": "3.4.3"
  }
 },
 "nbformat": 4,
 "nbformat_minor": 0
}
