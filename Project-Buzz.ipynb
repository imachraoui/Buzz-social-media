{
 "cells": [
  {
   "cell_type": "code",
   "execution_count": 69,
   "metadata": {
    "collapsed": false
   },
   "outputs": [],
   "source": [
    "import pandas, numpy\n",
    "from sklearn.decomposition import PCA\n",
    "import matplotlib.pyplot as plt\n",
    "data = pandas.read_csv(\"Twitter-Absolute-Sigma-500.csv\", sep=\",\",encoding=\"utf8\",index_col=0)\n"
   ]
  },
  {
   "cell_type": "markdown",
   "metadata": {},
   "source": [
    "Retirer des données à étudier la dernière colonne correspondant au résultat (buzz ou pas buzz)"
   ]
  },
  {
   "cell_type": "code",
   "execution_count": 91,
   "metadata": {
    "collapsed": false
   },
   "outputs": [
    {
     "name": "stdout",
     "output_type": "stream",
     "text": [
      "(140707, 76)\n"
     ]
    },
    {
     "data": {
      "text/html": [
       "<div>\n",
       "<table border=\"1\" class=\"dataframe\">\n",
       "  <thead>\n",
       "    <tr style=\"text-align: right;\">\n",
       "      <th></th>\n",
       "      <th>NCD_1</th>\n",
       "      <th>NCD_2</th>\n",
       "      <th>NCD_3</th>\n",
       "      <th>NCD_4</th>\n",
       "      <th>NCD_5</th>\n",
       "      <th>NCD_6</th>\n",
       "      <th>AI_0</th>\n",
       "      <th>AI_1</th>\n",
       "      <th>AI_2</th>\n",
       "      <th>AI_3</th>\n",
       "      <th>...</th>\n",
       "      <th>ADL_4</th>\n",
       "      <th>ADL_5</th>\n",
       "      <th>ADL_6</th>\n",
       "      <th>NAD_0</th>\n",
       "      <th>NAD_1</th>\n",
       "      <th>NAD_2</th>\n",
       "      <th>NAD_3</th>\n",
       "      <th>NAD_4</th>\n",
       "      <th>NAD_5</th>\n",
       "      <th>NAD_6</th>\n",
       "    </tr>\n",
       "    <tr>\n",
       "      <th>NCD_0</th>\n",
       "      <th></th>\n",
       "      <th></th>\n",
       "      <th></th>\n",
       "      <th></th>\n",
       "      <th></th>\n",
       "      <th></th>\n",
       "      <th></th>\n",
       "      <th></th>\n",
       "      <th></th>\n",
       "      <th></th>\n",
       "      <th></th>\n",
       "      <th></th>\n",
       "      <th></th>\n",
       "      <th></th>\n",
       "      <th></th>\n",
       "      <th></th>\n",
       "      <th></th>\n",
       "      <th></th>\n",
       "      <th></th>\n",
       "      <th></th>\n",
       "      <th></th>\n",
       "    </tr>\n",
       "  </thead>\n",
       "  <tbody>\n",
       "    <tr>\n",
       "      <th>889</th>\n",
       "      <td>939</td>\n",
       "      <td>960</td>\n",
       "      <td>805</td>\n",
       "      <td>805</td>\n",
       "      <td>1143</td>\n",
       "      <td>1121</td>\n",
       "      <td>549</td>\n",
       "      <td>613</td>\n",
       "      <td>587</td>\n",
       "      <td>447</td>\n",
       "      <td>...</td>\n",
       "      <td>1</td>\n",
       "      <td>1</td>\n",
       "      <td>1</td>\n",
       "      <td>889</td>\n",
       "      <td>939</td>\n",
       "      <td>960</td>\n",
       "      <td>805</td>\n",
       "      <td>805</td>\n",
       "      <td>1143</td>\n",
       "      <td>1121</td>\n",
       "    </tr>\n",
       "    <tr>\n",
       "      <th>542</th>\n",
       "      <td>473</td>\n",
       "      <td>504</td>\n",
       "      <td>626</td>\n",
       "      <td>647</td>\n",
       "      <td>795</td>\n",
       "      <td>832</td>\n",
       "      <td>366</td>\n",
       "      <td>288</td>\n",
       "      <td>318</td>\n",
       "      <td>445</td>\n",
       "      <td>...</td>\n",
       "      <td>1</td>\n",
       "      <td>1</td>\n",
       "      <td>1</td>\n",
       "      <td>542</td>\n",
       "      <td>473</td>\n",
       "      <td>504</td>\n",
       "      <td>626</td>\n",
       "      <td>647</td>\n",
       "      <td>795</td>\n",
       "      <td>832</td>\n",
       "    </tr>\n",
       "    <tr>\n",
       "      <th>92</th>\n",
       "      <td>99</td>\n",
       "      <td>196</td>\n",
       "      <td>100</td>\n",
       "      <td>184</td>\n",
       "      <td>79</td>\n",
       "      <td>162</td>\n",
       "      <td>66</td>\n",
       "      <td>59</td>\n",
       "      <td>118</td>\n",
       "      <td>58</td>\n",
       "      <td>...</td>\n",
       "      <td>1</td>\n",
       "      <td>1</td>\n",
       "      <td>1</td>\n",
       "      <td>92</td>\n",
       "      <td>99</td>\n",
       "      <td>196</td>\n",
       "      <td>100</td>\n",
       "      <td>184</td>\n",
       "      <td>79</td>\n",
       "      <td>162</td>\n",
       "    </tr>\n",
       "    <tr>\n",
       "      <th>90</th>\n",
       "      <td>87</td>\n",
       "      <td>92</td>\n",
       "      <td>344</td>\n",
       "      <td>184</td>\n",
       "      <td>848</td>\n",
       "      <td>184</td>\n",
       "      <td>83</td>\n",
       "      <td>78</td>\n",
       "      <td>76</td>\n",
       "      <td>288</td>\n",
       "      <td>...</td>\n",
       "      <td>1</td>\n",
       "      <td>1</td>\n",
       "      <td>1</td>\n",
       "      <td>90</td>\n",
       "      <td>87</td>\n",
       "      <td>92</td>\n",
       "      <td>344</td>\n",
       "      <td>184</td>\n",
       "      <td>848</td>\n",
       "      <td>184</td>\n",
       "    </tr>\n",
       "    <tr>\n",
       "      <th>169</th>\n",
       "      <td>98</td>\n",
       "      <td>101</td>\n",
       "      <td>90</td>\n",
       "      <td>96</td>\n",
       "      <td>95</td>\n",
       "      <td>185</td>\n",
       "      <td>141</td>\n",
       "      <td>68</td>\n",
       "      <td>85</td>\n",
       "      <td>73</td>\n",
       "      <td>...</td>\n",
       "      <td>1</td>\n",
       "      <td>1</td>\n",
       "      <td>1</td>\n",
       "      <td>169</td>\n",
       "      <td>98</td>\n",
       "      <td>101</td>\n",
       "      <td>90</td>\n",
       "      <td>96</td>\n",
       "      <td>95</td>\n",
       "      <td>185</td>\n",
       "    </tr>\n",
       "  </tbody>\n",
       "</table>\n",
       "<p>5 rows × 76 columns</p>\n",
       "</div>"
      ],
      "text/plain": [
       "       NCD_1  NCD_2  NCD_3  NCD_4  NCD_5  NCD_6  AI_0  AI_1  AI_2  AI_3  \\\n",
       "NCD_0                                                                     \n",
       "889      939    960    805    805   1143   1121   549   613   587   447   \n",
       "542      473    504    626    647    795    832   366   288   318   445   \n",
       "92        99    196    100    184     79    162    66    59   118    58   \n",
       "90        87     92    344    184    848    184    83    78    76   288   \n",
       "169       98    101     90     96     95    185   141    68    85    73   \n",
       "\n",
       "       ...    ADL_4  ADL_5  ADL_6  NAD_0  NAD_1  NAD_2  NAD_3  NAD_4  NAD_5  \\\n",
       "NCD_0  ...                                                                    \n",
       "889    ...        1      1      1    889    939    960    805    805   1143   \n",
       "542    ...        1      1      1    542    473    504    626    647    795   \n",
       "92     ...        1      1      1     92     99    196    100    184     79   \n",
       "90     ...        1      1      1     90     87     92    344    184    848   \n",
       "169    ...        1      1      1    169     98    101     90     96     95   \n",
       "\n",
       "       NAD_6  \n",
       "NCD_0         \n",
       "889     1121  \n",
       "542      832  \n",
       "92       162  \n",
       "90       184  \n",
       "169      185  \n",
       "\n",
       "[5 rows x 76 columns]"
      ]
     },
     "execution_count": 91,
     "metadata": {},
     "output_type": "execute_result"
    }
   ],
   "source": [
    "df = data.iloc[:, :76]\n",
    "print(df.shape)\n",
    "df.head(n=5)"
   ]
  },
  {
   "cell_type": "markdown",
   "metadata": {},
   "source": [
    "# Choix du nombre d'axes à retenir"
   ]
  },
  {
   "cell_type": "markdown",
   "metadata": {},
   "source": [
    "Pour le choix des axes principaux, on applique le critère de Kaiser.\n",
    "Ce qui veut dire qu'on ne garde que les composantes principales d'inertie expliquée supérieure à 1"
   ]
  },
  {
   "cell_type": "code",
   "execution_count": 92,
   "metadata": {
    "collapsed": false
   },
   "outputs": [
    {
     "data": {
      "text/plain": [
       "array([  0.4458573 ,   0.5240428 ,   0.64025724,   0.67095869,\n",
       "         0.74407226,   0.92119248,   0.9317942 ,   1.05956245,\n",
       "         1.14491036,   1.25500261,   1.33328964,   1.56513762,\n",
       "         1.61262001,   1.78811233,   2.13958212,   2.23086413,\n",
       "         2.60820266,   3.76766446,   6.44206188,  42.46931573])"
      ]
     },
     "execution_count": 92,
     "metadata": {},
     "output_type": "execute_result"
    }
   ],
   "source": [
    "pca = PCA(n_components = 20)\n",
    "pca.fit((df - df.mean()) / df.std())\n",
    "np.sort(pca.explained_variance_)\n"
   ]
  },
  {
   "cell_type": "markdown",
   "metadata": {},
   "source": [
    "Nous en déduisons que le nombre d'axes est donc égal à 13"
   ]
  },
  {
   "cell_type": "code",
   "execution_count": 93,
   "metadata": {
    "collapsed": false
   },
   "outputs": [
    {
     "name": "stdout",
     "output_type": "stream",
     "text": [
      "la part d'inertie expliquée avec les 13 composantes :  0.913379201969\n"
     ]
    }
   ],
   "source": [
    "pca = PCA(n_components = 13)\n",
    "pca.fit((df - df.mean()) / df.std())\n",
    "print(\"la part d'inertie expliquée avec les 13 composantes : \",sum(pca.explained_variance_ratio_))\n"
   ]
  },
  {
   "cell_type": "code",
   "execution_count": 94,
   "metadata": {
    "collapsed": false
   },
   "outputs": [
    {
     "data": {
      "text/plain": [
       "<matplotlib.text.Text at 0x9a27208>"
      ]
     },
     "execution_count": 94,
     "metadata": {},
     "output_type": "execute_result"
    },
    {
     "data": {
      "image/png": "[encoded data removed]",
      "text/plain": [
       "<matplotlib.figure.Figure at 0x5a200f0>"
      ]
     },
     "metadata": {},
     "output_type": "display_data"
    }
   ],
   "source": [
    "%matplotlib inline\n",
    "plt.bar(numpy.arange(len(pca.explained_variance_ratio_))+0.5, pca.explained_variance_ratio_)\n",
    "plt.title(\"Variance expliquée\")"
   ]
  },
  {
   "cell_type": "code",
   "execution_count": 61,
   "metadata": {
    "collapsed": false
   },
   "outputs": [
    {
     "data": {
      "text/plain": [
       "array([[  2.04824939e-04,   1.30351968e-05,  -3.49946196e-06, ...,\n",
       "          9.19766104e-07,  -1.97739374e-04,   3.85039719e-05],\n",
       "       [  2.04824939e-04,   1.30351968e-05,  -3.49946196e-06, ...,\n",
       "          9.19766105e-07,  -1.97739374e-04,   3.85039719e-05],\n",
       "       [  2.04824939e-04,   1.30351968e-05,  -3.49946196e-06, ...,\n",
       "          9.19766105e-07,  -1.97739374e-04,   3.85039719e-05],\n",
       "       ..., \n",
       "       [  2.31659955e-01,   1.99826069e-02,  -1.81302604e-02, ...,\n",
       "         -1.99080629e-03,  -6.69821697e-03,   7.48424992e-03],\n",
       "       [  2.30835968e-01,   1.98027151e-02,  -1.65020726e-02, ...,\n",
       "          2.00892674e-03,  -1.06745165e-02,   6.26178712e-03],\n",
       "       [  1.51493182e-01,  -2.26877268e-02,   7.06927290e-02, ...,\n",
       "          2.04298659e-02,  -9.55016224e-01,   3.03718153e-02]])"
      ]
     },
     "execution_count": 61,
     "metadata": {},
     "output_type": "execute_result"
    }
   ],
   "source": [
    "import numpy as np\n",
    "X_reduced = pca.transform(df)\n",
    "i = np.identity(df.shape[1])\n",
    "coef = pca.transform(i)\n",
    "coef\n",
    "#X_reduced_df = pandas.DataFrame(X_reduced)\n",
    "#X_reduced_df.head(n=5)"
   ]
  },
  {
   "cell_type": "code",
   "execution_count": 63,
   "metadata": {
    "collapsed": false
   },
   "outputs": [
    {
     "data": {
      "text/plain": [
       "NCD_1         0.000205\n",
       "NCD_2         0.000205\n",
       "NCD_3         0.000205\n",
       "NCD_4         0.000205\n",
       "NCD_5         0.000205\n",
       "NCD_6         0.000205\n",
       "AI_0          0.000205\n",
       "AI_1          0.000205\n",
       "AI_2          0.000205\n",
       "AI_3          0.000205\n",
       "AI_4          0.000205\n",
       "AI_5          0.000205\n",
       "AI_6          0.000205\n",
       "AS(NA)_0      0.240338\n",
       "AS(NA)_1      0.237494\n",
       "AS(NA)_2      0.235674\n",
       "AS(NA)_3      0.237581\n",
       "AS(NA)_4      0.239448\n",
       "AS(NA)_5      0.241100\n",
       "AS(NA)_6      0.237233\n",
       "BL_0          0.038196\n",
       "BL_1          0.030631\n",
       "BL_2          0.041866\n",
       "BL_3          0.040077\n",
       "BL_4          0.039037\n",
       "BL_5          0.032039\n",
       "BL_6          0.024735\n",
       "NAC_0         0.000205\n",
       "NAC_1         0.000205\n",
       "NAC_2         0.000205\n",
       "                ...   \n",
       "CS_6          0.000205\n",
       "AT_0          0.012714\n",
       "AT_1          0.009563\n",
       "AT_2          0.015119\n",
       "AT_3          0.015292\n",
       "AT_4          0.010696\n",
       "AT_5          0.007021\n",
       "AT_6          0.001668\n",
       "NA_0          0.000205\n",
       "NA_1          0.000205\n",
       "NA_2          0.000205\n",
       "NA_3          0.000205\n",
       "NA_4          0.000205\n",
       "NA_5          0.000205\n",
       "NA_6          0.000205\n",
       "ADL_0         0.011317\n",
       "ADL_1         0.008961\n",
       "ADL_2         0.013909\n",
       "ADL_3         0.013681\n",
       "ADL_4         0.009504\n",
       "ADL_5         0.004863\n",
       "ADL_6        -0.000809\n",
       "NAD_0         0.000205\n",
       "NAD_1         0.000205\n",
       "NAD_2         0.000205\n",
       "NAD_3         0.122024\n",
       "NAD_4         0.228729\n",
       "NAD_5         0.231660\n",
       "NAD_6         0.230836\n",
       "Annotation    0.151493\n",
       "Name: PC-1, dtype: float64"
      ]
     },
     "execution_count": 63,
     "metadata": {},
     "output_type": "execute_result"
    }
   ],
   "source": [
    "tab =pandas.DataFrame(coef, columns=['PC-1', 'PC-2','PC-3','PC-4', 'PC-5', 'PC-6', 'PC-7', 'PC-8', 'PC-9', 'PC-10','PC-11','PC-12','PC-13'], index=df.columns)\n",
    "test = tab[\"PC-1\"]\n",
    "test"
   ]
  },
  {
   "cell_type": "code",
   "execution_count": 3,
   "metadata": {
    "collapsed": false
   },
   "outputs": [],
   "source": [
    "from sklearn.decomposition import IncrementalPCA\n",
    "n_components = 10\n",
    "ipca = IncrementalPCA(n_components=n_components, batch_size=100)\n",
    "X_ipca = ipca.fit_transform(df)"
   ]
  },
  {
   "cell_type": "code",
   "execution_count": 4,
   "metadata": {
    "collapsed": false
   },
   "outputs": [
    {
     "ename": "KeyboardInterrupt",
     "evalue": "",
     "output_type": "error",
     "traceback": [
      "Traceback (most recent call last):\n",
      "  File \"c:\\users\\wymeka\\documents\\python\\python\\lib\\site-packages\\ipykernel\\ipkernel.py\", line 175, in do_execute\n    shell.run_cell(code, store_history=store_history, silent=silent)\n",
      "  File \"c:\\users\\wymeka\\documents\\python\\python\\lib\\site-packages\\IPython\\core\\interactiveshell.py\", line 2908, in run_cell\n    self.events.trigger('post_execute')\n",
      "  File \"c:\\users\\wymeka\\documents\\python\\python\\lib\\site-packages\\IPython\\core\\events.py\", line 74, in trigger\n    func(*args, **kwargs)\n",
      "  File \"c:\\users\\wymeka\\documents\\python\\python\\lib\\site-packages\\matplotlib\\pyplot.py\", line 143, in post_execute\n    draw_all()\n",
      "  File \"c:\\users\\wymeka\\documents\\python\\python\\lib\\site-packages\\matplotlib\\_pylab_helpers.py\", line 150, in draw_all\n    f_mgr.canvas.draw_idle()\n",
      "  File \"c:\\users\\wymeka\\documents\\python\\python\\lib\\site-packages\\matplotlib\\backend_bases.py\", line 2025, in draw_idle\n    self.draw(*args, **kwargs)\n",
      "  File \"c:\\users\\wymeka\\documents\\python\\python\\lib\\site-packages\\matplotlib\\backends\\backend_agg.py\", line 474, in draw\n    self.figure.draw(self.renderer)\n",
      "  File \"c:\\users\\wymeka\\documents\\python\\python\\lib\\site-packages\\matplotlib\\artist.py\", line 61, in draw_wrapper\n    draw(artist, renderer, *args, **kwargs)\n",
      "  File \"c:\\users\\wymeka\\documents\\python\\python\\lib\\site-packages\\matplotlib\\figure.py\", line 1134, in draw\n    func(*args)\n",
      "  File \"c:\\users\\wymeka\\documents\\python\\python\\lib\\site-packages\\matplotlib\\artist.py\", line 61, in draw_wrapper\n    draw(artist, renderer, *args, **kwargs)\n",
      "  File \"c:\\users\\wymeka\\documents\\python\\python\\lib\\site-packages\\matplotlib\\axes\\_base.py\", line 2304, in draw\n    a.draw(renderer)\n",
      "  File \"c:\\users\\wymeka\\documents\\python\\python\\lib\\site-packages\\matplotlib\\artist.py\", line 61, in draw_wrapper\n    draw(artist, renderer, *args, **kwargs)\n",
      "  File \"c:\\users\\wymeka\\documents\\python\\python\\lib\\site-packages\\matplotlib\\text.py\", line 2258, in draw\n    Text.draw(self, renderer)\n",
      "  File \"c:\\users\\wymeka\\documents\\python\\python\\lib\\site-packages\\matplotlib\\artist.py\", line 61, in draw_wrapper\n    draw(artist, renderer, *args, **kwargs)\n",
      "  File \"c:\\users\\wymeka\\documents\\python\\python\\lib\\site-packages\\matplotlib\\text.py\", line 763, in draw\n    textobj._draw_bbox(renderer, posx, posy)\n",
      "  File \"c:\\users\\wymeka\\documents\\python\\python\\lib\\site-packages\\matplotlib\\text.py\", line 562, in _draw_bbox\n    x_box, y_box, w_box, h_box = _get_textbox(self, renderer)\n",
      "  File \"c:\\users\\wymeka\\documents\\python\\python\\lib\\site-packages\\matplotlib\\text.py\", line 153, in _get_textbox\n    tr = mtransforms.Affine2D().rotate(-theta)\n",
      "  File \"c:\\users\\wymeka\\documents\\python\\python\\lib\\site-packages\\matplotlib\\transforms.py\", line 1883, in rotate\n    self._mtx = np.dot(rotate_mtx, self._mtx)\n",
      "KeyboardInterrupt\n"
     ]
    }
   ],
   "source": [
    "%matplotlib inline\n",
    "X_reduced = X_ipca\n",
    "plt.figure(figsize=(18,6))\n",
    "plt.scatter(X_reduced[:, 0], X_reduced[:, 1])\n",
    "for label, x, y in zip(df.index, X_reduced[:, 0], X_reduced[:, 1]):\n",
    "    plt.annotate(\n",
    "        label,\n",
    "        xy = (x, y), xytext = (-20, 20),\n",
    "        textcoords = 'offset points', ha = 'right', va = 'bottom',\n",
    "        bbox = dict(boxstyle = 'round,pad=0.5', fc = 'yellow', alpha = 0.5),\n",
    "        arrowprops = dict(arrowstyle = '->', connectionstyle = 'arc3,rad=0'))\n"
   ]
  },
  {
   "cell_type": "code",
   "execution_count": null,
   "metadata": {
    "collapsed": true
   },
   "outputs": [],
   "source": []
  }
 ],
 "metadata": {
  "kernelspec": {
   "display_name": "Python 3",
   "language": "python",
   "name": "python3"
  },
  "language_info": {
   "codemirror_mode": {
    "name": "ipython",
    "version": 3
   },
   "file_extension": ".py",
   "mimetype": "text/x-python",
   "name": "python",
   "nbconvert_exporter": "python",
   "pygments_lexer": "ipython3",
   "version": "3.4.3"
  }
 },
 "nbformat": 4,
 "nbformat_minor": 0
}
